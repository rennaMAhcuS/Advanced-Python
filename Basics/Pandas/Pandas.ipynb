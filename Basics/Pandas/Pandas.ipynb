{
 "cells": [
  {
   "metadata": {},
   "cell_type": "markdown",
   "source": "# Pandas (Source: KeithGalli)",
   "id": "2bf4df568d50120f"
  },
  {
   "metadata": {
    "ExecuteTime": {
     "end_time": "2024-06-13T13:57:44.140152Z",
     "start_time": "2024-06-13T13:57:40.902580Z"
    }
   },
   "cell_type": "code",
   "source": "import pandas as pd",
   "id": "c0fb610d14ced152",
   "outputs": [],
   "execution_count": 1
  },
  {
   "metadata": {},
   "cell_type": "markdown",
   "source": "## Loading Data into Pandas",
   "id": "d198a0aee5d4db6"
  },
  {
   "metadata": {},
   "cell_type": "code",
   "outputs": [],
   "execution_count": null,
   "source": "poke_df = pd.read_csv('pokemon_data.csv')",
   "id": "16f7bb3435606565"
  }
 ],
 "metadata": {
  "kernelspec": {
   "display_name": "Python 3",
   "language": "python",
   "name": "python3"
  },
  "language_info": {
   "codemirror_mode": {
    "name": "ipython",
    "version": 2
   },
   "file_extension": ".py",
   "mimetype": "text/x-python",
   "name": "python",
   "nbconvert_exporter": "python",
   "pygments_lexer": "ipython2",
   "version": "2.7.6"
  }
 },
 "nbformat": 4,
 "nbformat_minor": 5
}
