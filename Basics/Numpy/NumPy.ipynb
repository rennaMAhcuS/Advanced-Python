{
 "cells": [
  {
   "metadata": {},
   "cell_type": "markdown",
   "source": "# NumPy (Source: KeithGalli)",
   "id": "1d45a35dbca86675"
  },
  {
   "metadata": {
    "ExecuteTime": {
     "end_time": "2024-06-13T10:33:07.285111Z",
     "start_time": "2024-06-13T10:33:07.179909Z"
    }
   },
   "cell_type": "code",
   "source": "import numpy as np",
   "id": "b63955477b7877c1",
   "outputs": [],
   "execution_count": 1
  },
  {
   "metadata": {},
   "cell_type": "markdown",
   "source": "## The Basics",
   "id": "8d86967b745616e4"
  },
  {
   "metadata": {
    "ExecuteTime": {
     "end_time": "2024-06-13T10:33:08.449265Z",
     "start_time": "2024-06-13T10:33:08.446088Z"
    }
   },
   "cell_type": "code",
   "source": [
    "a = np.array([1, 2, 3])\n",
    "a"
   ],
   "id": "77753f09bed14916",
   "outputs": [
    {
     "data": {
      "text/plain": [
       "array([1, 2, 3])"
      ]
     },
     "execution_count": 2,
     "metadata": {},
     "output_type": "execute_result"
    }
   ],
   "execution_count": 2
  },
  {
   "metadata": {
    "ExecuteTime": {
     "end_time": "2024-06-13T10:33:08.886710Z",
     "start_time": "2024-06-13T10:33:08.883467Z"
    }
   },
   "cell_type": "code",
   "source": [
    "b = np.array(([6.0, 5.0, 4.0], [3.0, 2.0, 1.0]))\n",
    "b"
   ],
   "id": "3f4ade89a42e1698",
   "outputs": [
    {
     "data": {
      "text/plain": [
       "array([[6., 5., 4.],\n",
       "       [3., 2., 1.]])"
      ]
     },
     "execution_count": 3,
     "metadata": {},
     "output_type": "execute_result"
    }
   ],
   "execution_count": 3
  },
  {
   "metadata": {
    "ExecuteTime": {
     "end_time": "2024-06-13T10:33:09.274637Z",
     "start_time": "2024-06-13T10:33:09.272210Z"
    }
   },
   "cell_type": "code",
   "source": [
    "# Get Dimension\n",
    "a.ndim"
   ],
   "id": "7b2b9232c3e834e8",
   "outputs": [
    {
     "data": {
      "text/plain": [
       "1"
      ]
     },
     "execution_count": 4,
     "metadata": {},
     "output_type": "execute_result"
    }
   ],
   "execution_count": 4
  },
  {
   "metadata": {
    "ExecuteTime": {
     "end_time": "2024-06-13T10:33:09.822276Z",
     "start_time": "2024-06-13T10:33:09.820221Z"
    }
   },
   "cell_type": "code",
   "source": [
    "# Get Shape\n",
    "b.shape"
   ],
   "id": "1c7c9ed76e5b02d3",
   "outputs": [
    {
     "data": {
      "text/plain": [
       "(2, 3)"
      ]
     },
     "execution_count": 5,
     "metadata": {},
     "output_type": "execute_result"
    }
   ],
   "execution_count": 5
  },
  {
   "metadata": {
    "ExecuteTime": {
     "end_time": "2024-06-13T10:33:10.397684Z",
     "start_time": "2024-06-13T10:33:10.395547Z"
    }
   },
   "cell_type": "code",
   "source": [
    "# Get Type\n",
    "a.dtype"
   ],
   "id": "d1e94daf05f8809c",
   "outputs": [
    {
     "data": {
      "text/plain": [
       "dtype('int64')"
      ]
     },
     "execution_count": 6,
     "metadata": {},
     "output_type": "execute_result"
    }
   ],
   "execution_count": 6
  },
  {
   "metadata": {
    "ExecuteTime": {
     "end_time": "2024-06-13T10:33:11.633914Z",
     "start_time": "2024-06-13T10:33:11.631790Z"
    }
   },
   "cell_type": "code",
   "source": [
    "# Get the Size of the datatype in the ndarray\n",
    "a.itemsize"
   ],
   "id": "9ce3393366f679ac",
   "outputs": [
    {
     "data": {
      "text/plain": [
       "8"
      ]
     },
     "execution_count": 7,
     "metadata": {},
     "output_type": "execute_result"
    }
   ],
   "execution_count": 7
  },
  {
   "metadata": {
    "ExecuteTime": {
     "end_time": "2024-06-13T10:33:12.186904Z",
     "start_time": "2024-06-13T10:33:12.184861Z"
    }
   },
   "cell_type": "code",
   "source": [
    "# Get the number of items (product of all the numbers in shape) in an array\n",
    "b.size"
   ],
   "id": "233413412b69c237",
   "outputs": [
    {
     "data": {
      "text/plain": [
       "6"
      ]
     },
     "execution_count": 8,
     "metadata": {},
     "output_type": "execute_result"
    }
   ],
   "execution_count": 8
  },
  {
   "metadata": {
    "ExecuteTime": {
     "end_time": "2024-06-13T10:33:12.767288Z",
     "start_time": "2024-06-13T10:33:12.764781Z"
    }
   },
   "cell_type": "code",
   "source": [
    "# Specifying datatypes:\n",
    "c = np.array([1, 2, 3], dtype='int32')\n",
    "c"
   ],
   "id": "1b0b03e87a0831b5",
   "outputs": [
    {
     "data": {
      "text/plain": [
       "array([1, 2, 3], dtype=int32)"
      ]
     },
     "execution_count": 9,
     "metadata": {},
     "output_type": "execute_result"
    }
   ],
   "execution_count": 9
  },
  {
   "metadata": {},
   "cell_type": "markdown",
   "source": "## Accessing/Changing specific elements, rows, columns, etc.",
   "id": "8e6ef968e6d9b9d2"
  },
  {
   "metadata": {
    "ExecuteTime": {
     "end_time": "2024-06-13T10:33:14.178387Z",
     "start_time": "2024-06-13T10:33:14.176209Z"
    }
   },
   "cell_type": "code",
   "source": [
    "alpha = np.array([[1, 2, 3, 4, 6], [1, 4, 8, 6, 3]])\n",
    "alpha"
   ],
   "id": "e87d78967bcee203",
   "outputs": [
    {
     "data": {
      "text/plain": [
       "array([[1, 2, 3, 4, 6],\n",
       "       [1, 4, 8, 6, 3]])"
      ]
     },
     "execution_count": 10,
     "metadata": {},
     "output_type": "execute_result"
    }
   ],
   "execution_count": 10
  },
  {
   "metadata": {
    "ExecuteTime": {
     "end_time": "2024-06-13T10:33:14.661267Z",
     "start_time": "2024-06-13T10:33:14.659085Z"
    }
   },
   "cell_type": "code",
   "source": [
    "# Getting mth row and nth column's element = array[m - 1, n - 1]. We can also use the negative indices as used in lists...\n",
    "alpha[1, 3]"
   ],
   "id": "e61d003071b747c",
   "outputs": [
    {
     "data": {
      "text/plain": [
       "6"
      ]
     },
     "execution_count": 11,
     "metadata": {},
     "output_type": "execute_result"
    }
   ],
   "execution_count": 11
  },
  {
   "metadata": {
    "ExecuteTime": {
     "end_time": "2024-06-13T10:33:15.176562Z",
     "start_time": "2024-06-13T10:33:15.174010Z"
    }
   },
   "cell_type": "code",
   "source": [
    "beta = np.around(np.random.random((10, 10)), decimals=2)\n",
    "beta"
   ],
   "id": "8df58c300a2b6c37",
   "outputs": [
    {
     "data": {
      "text/plain": [
       "array([[0.46, 0.01, 0.94, 0.73, 0.46, 0.6 , 0.48, 0.47, 0.54, 0.79],\n",
       "       [0.63, 0.66, 0.8 , 0.85, 0.48, 0.19, 0.35, 0.95, 0.39, 0.36],\n",
       "       [0.21, 0.07, 0.85, 0.75, 0.97, 0.47, 0.24, 0.32, 0.98, 0.59],\n",
       "       [0.98, 0.38, 0.04, 0.13, 0.06, 0.01, 0.92, 0.98, 0.45, 0.66],\n",
       "       [0.01, 0.52, 0.5 , 0.11, 0.67, 0.86, 0.89, 0.88, 0.41, 0.69],\n",
       "       [0.88, 0.66, 0.37, 0.85, 0.52, 0.22, 0.96, 0.06, 0.97, 0.48],\n",
       "       [0.42, 0.5 , 0.84, 0.68, 0.42, 0.06, 0.41, 0.68, 0.22, 0.83],\n",
       "       [0.79, 0.05, 0.9 , 0.79, 0.8 , 0.86, 0.94, 0.33, 0.87, 0.27],\n",
       "       [0.43, 0.42, 0.58, 0.67, 0.6 , 0.03, 0.67, 0.7 , 0.28, 0.01],\n",
       "       [0.67, 0.47, 0.76, 0.94, 0.59, 0.65, 0.01, 0.68, 0.09, 0.12]])"
      ]
     },
     "execution_count": 12,
     "metadata": {},
     "output_type": "execute_result"
    }
   ],
   "execution_count": 12
  },
  {
   "metadata": {
    "ExecuteTime": {
     "end_time": "2024-06-13T10:33:15.563338Z",
     "start_time": "2024-06-13T10:33:15.560731Z"
    }
   },
   "cell_type": "code",
   "source": [
    "# Splicing works perfectly. See these examples:\n",
    "print(\"=== Without step ===\")\n",
    "print(beta[3:7, 2:5])\n",
    "print(\"=== With step ===\")\n",
    "print(beta[1:8:3, 2:9:2])"
   ],
   "id": "5d3d086662726f1",
   "outputs": [
    {
     "name": "stdout",
     "output_type": "stream",
     "text": [
      "=== Without step ===\n",
      "[[0.04 0.13 0.06]\n",
      " [0.5  0.11 0.67]\n",
      " [0.37 0.85 0.52]\n",
      " [0.84 0.68 0.42]]\n",
      "=== With step ===\n",
      "[[0.8  0.48 0.35 0.39]\n",
      " [0.5  0.67 0.89 0.41]\n",
      " [0.9  0.8  0.94 0.87]]\n"
     ]
    }
   ],
   "execution_count": 13
  },
  {
   "metadata": {
    "ExecuteTime": {
     "end_time": "2024-06-13T10:33:16.462798Z",
     "start_time": "2024-06-13T10:33:16.459533Z"
    }
   },
   "cell_type": "code",
   "source": [
    "# NumPy Arrays are mutable.\n",
    "beta[3, 6] = 1000\n",
    "beta"
   ],
   "id": "a91b84e699ae97e1",
   "outputs": [
    {
     "data": {
      "text/plain": [
       "array([[4.6e-01, 1.0e-02, 9.4e-01, 7.3e-01, 4.6e-01, 6.0e-01, 4.8e-01,\n",
       "        4.7e-01, 5.4e-01, 7.9e-01],\n",
       "       [6.3e-01, 6.6e-01, 8.0e-01, 8.5e-01, 4.8e-01, 1.9e-01, 3.5e-01,\n",
       "        9.5e-01, 3.9e-01, 3.6e-01],\n",
       "       [2.1e-01, 7.0e-02, 8.5e-01, 7.5e-01, 9.7e-01, 4.7e-01, 2.4e-01,\n",
       "        3.2e-01, 9.8e-01, 5.9e-01],\n",
       "       [9.8e-01, 3.8e-01, 4.0e-02, 1.3e-01, 6.0e-02, 1.0e-02, 1.0e+03,\n",
       "        9.8e-01, 4.5e-01, 6.6e-01],\n",
       "       [1.0e-02, 5.2e-01, 5.0e-01, 1.1e-01, 6.7e-01, 8.6e-01, 8.9e-01,\n",
       "        8.8e-01, 4.1e-01, 6.9e-01],\n",
       "       [8.8e-01, 6.6e-01, 3.7e-01, 8.5e-01, 5.2e-01, 2.2e-01, 9.6e-01,\n",
       "        6.0e-02, 9.7e-01, 4.8e-01],\n",
       "       [4.2e-01, 5.0e-01, 8.4e-01, 6.8e-01, 4.2e-01, 6.0e-02, 4.1e-01,\n",
       "        6.8e-01, 2.2e-01, 8.3e-01],\n",
       "       [7.9e-01, 5.0e-02, 9.0e-01, 7.9e-01, 8.0e-01, 8.6e-01, 9.4e-01,\n",
       "        3.3e-01, 8.7e-01, 2.7e-01],\n",
       "       [4.3e-01, 4.2e-01, 5.8e-01, 6.7e-01, 6.0e-01, 3.0e-02, 6.7e-01,\n",
       "        7.0e-01, 2.8e-01, 1.0e-02],\n",
       "       [6.7e-01, 4.7e-01, 7.6e-01, 9.4e-01, 5.9e-01, 6.5e-01, 1.0e-02,\n",
       "        6.8e-01, 9.0e-02, 1.2e-01]])"
      ]
     },
     "execution_count": 14,
     "metadata": {},
     "output_type": "execute_result"
    }
   ],
   "execution_count": 14
  },
  {
   "metadata": {
    "ExecuteTime": {
     "end_time": "2024-06-13T10:33:17.253040Z",
     "start_time": "2024-06-13T10:33:17.250300Z"
    }
   },
   "cell_type": "code",
   "source": [
    "# We can also input the change through the spliced arrays also which will reflect in the main array.\n",
    "beta[1:8:3, 2:9:2] = [[-1, -1, -1, -1], [-1, -1, -1, -1], [-1, -1, -1, -1]]  # or np.full((3, 4), -1)\n",
    "beta"
   ],
   "id": "8d51ea3e6fdb453",
   "outputs": [
    {
     "data": {
      "text/plain": [
       "array([[ 4.6e-01,  1.0e-02,  9.4e-01,  7.3e-01,  4.6e-01,  6.0e-01,\n",
       "         4.8e-01,  4.7e-01,  5.4e-01,  7.9e-01],\n",
       "       [ 6.3e-01,  6.6e-01, -1.0e+00,  8.5e-01, -1.0e+00,  1.9e-01,\n",
       "        -1.0e+00,  9.5e-01, -1.0e+00,  3.6e-01],\n",
       "       [ 2.1e-01,  7.0e-02,  8.5e-01,  7.5e-01,  9.7e-01,  4.7e-01,\n",
       "         2.4e-01,  3.2e-01,  9.8e-01,  5.9e-01],\n",
       "       [ 9.8e-01,  3.8e-01,  4.0e-02,  1.3e-01,  6.0e-02,  1.0e-02,\n",
       "         1.0e+03,  9.8e-01,  4.5e-01,  6.6e-01],\n",
       "       [ 1.0e-02,  5.2e-01, -1.0e+00,  1.1e-01, -1.0e+00,  8.6e-01,\n",
       "        -1.0e+00,  8.8e-01, -1.0e+00,  6.9e-01],\n",
       "       [ 8.8e-01,  6.6e-01,  3.7e-01,  8.5e-01,  5.2e-01,  2.2e-01,\n",
       "         9.6e-01,  6.0e-02,  9.7e-01,  4.8e-01],\n",
       "       [ 4.2e-01,  5.0e-01,  8.4e-01,  6.8e-01,  4.2e-01,  6.0e-02,\n",
       "         4.1e-01,  6.8e-01,  2.2e-01,  8.3e-01],\n",
       "       [ 7.9e-01,  5.0e-02, -1.0e+00,  7.9e-01, -1.0e+00,  8.6e-01,\n",
       "        -1.0e+00,  3.3e-01, -1.0e+00,  2.7e-01],\n",
       "       [ 4.3e-01,  4.2e-01,  5.8e-01,  6.7e-01,  6.0e-01,  3.0e-02,\n",
       "         6.7e-01,  7.0e-01,  2.8e-01,  1.0e-02],\n",
       "       [ 6.7e-01,  4.7e-01,  7.6e-01,  9.4e-01,  5.9e-01,  6.5e-01,\n",
       "         1.0e-02,  6.8e-01,  9.0e-02,  1.2e-01]])"
      ]
     },
     "execution_count": 15,
     "metadata": {},
     "output_type": "execute_result"
    }
   ],
   "execution_count": 15
  },
  {
   "metadata": {},
   "cell_type": "markdown",
   "source": "## Initializing Different Types of Arrays",
   "id": "df87d54b1883c17c"
  },
  {
   "metadata": {
    "ExecuteTime": {
     "end_time": "2024-06-13T10:33:18.704947Z",
     "start_time": "2024-06-13T10:33:18.701337Z"
    }
   },
   "cell_type": "code",
   "source": [
    "# All zeroes matrix\n",
    "null = np.zeros((3, 4))\n",
    "null"
   ],
   "id": "bcc775a8ca4358f9",
   "outputs": [
    {
     "data": {
      "text/plain": [
       "array([[0., 0., 0., 0.],\n",
       "       [0., 0., 0., 0.],\n",
       "       [0., 0., 0., 0.]])"
      ]
     },
     "execution_count": 16,
     "metadata": {},
     "output_type": "execute_result"
    }
   ],
   "execution_count": 16
  },
  {
   "metadata": {
    "ExecuteTime": {
     "end_time": "2024-06-13T10:33:19.310811Z",
     "start_time": "2024-06-13T10:33:19.308550Z"
    }
   },
   "cell_type": "code",
   "source": [
    "# All 'ones' matrix\n",
    "ones = np.ones((4, 3, 2), dtype='int32')\n",
    "ones"
   ],
   "id": "7f55e784e70572e4",
   "outputs": [
    {
     "data": {
      "text/plain": [
       "array([[[1, 1],\n",
       "        [1, 1],\n",
       "        [1, 1]],\n",
       "\n",
       "       [[1, 1],\n",
       "        [1, 1],\n",
       "        [1, 1]],\n",
       "\n",
       "       [[1, 1],\n",
       "        [1, 1],\n",
       "        [1, 1]],\n",
       "\n",
       "       [[1, 1],\n",
       "        [1, 1],\n",
       "        [1, 1]]], dtype=int32)"
      ]
     },
     "execution_count": 17,
     "metadata": {},
     "output_type": "execute_result"
    }
   ],
   "execution_count": 17
  },
  {
   "metadata": {
    "ExecuteTime": {
     "end_time": "2024-06-13T10:33:19.842451Z",
     "start_time": "2024-06-13T10:33:19.840218Z"
    }
   },
   "cell_type": "code",
   "source": [
    "# Any other number\n",
    "full = np.full((3, 2), 99)\n",
    "full"
   ],
   "id": "897094ace23f747f",
   "outputs": [
    {
     "data": {
      "text/plain": [
       "array([[99, 99],\n",
       "       [99, 99],\n",
       "       [99, 99]])"
      ]
     },
     "execution_count": 18,
     "metadata": {},
     "output_type": "execute_result"
    }
   ],
   "execution_count": 18
  },
  {
   "metadata": {
    "ExecuteTime": {
     "end_time": "2024-06-13T10:33:20.545547Z",
     "start_time": "2024-06-13T10:33:20.543125Z"
    }
   },
   "cell_type": "code",
   "source": [
    "# To take the dimensions of a matrix and fill it with a number: (Note: The first argument is an array, not its dimensions.)\n",
    "full_like = np.full_like(b, 6)\n",
    "full_like"
   ],
   "id": "10aa43c2c443a275",
   "outputs": [
    {
     "data": {
      "text/plain": [
       "array([[6., 6., 6.],\n",
       "       [6., 6., 6.]])"
      ]
     },
     "execution_count": 19,
     "metadata": {},
     "output_type": "execute_result"
    }
   ],
   "execution_count": 19
  },
  {
   "metadata": {
    "ExecuteTime": {
     "end_time": "2024-06-13T10:33:21.125795Z",
     "start_time": "2024-06-13T10:33:21.123502Z"
    }
   },
   "cell_type": "code",
   "source": [
    "# Identity Matrix\n",
    "np.identity(4)"
   ],
   "id": "212bfe3f916e1e73",
   "outputs": [
    {
     "data": {
      "text/plain": [
       "array([[1., 0., 0., 0.],\n",
       "       [0., 1., 0., 0.],\n",
       "       [0., 0., 1., 0.],\n",
       "       [0., 0., 0., 1.]])"
      ]
     },
     "execution_count": 20,
     "metadata": {},
     "output_type": "execute_result"
    }
   ],
   "execution_count": 20
  },
  {
   "metadata": {
    "ExecuteTime": {
     "end_time": "2024-06-13T10:33:21.651423Z",
     "start_time": "2024-06-13T10:33:21.648995Z"
    }
   },
   "cell_type": "code",
   "source": [
    "# Repeat an array (Kind of...)\n",
    "arr_to_rep = np.array([[1, 2, 3]])\n",
    "rep_array = np.repeat(arr_to_rep, 5, axis=0)\n",
    "rep_array"
   ],
   "id": "108469014eee33c7",
   "outputs": [
    {
     "data": {
      "text/plain": [
       "array([[1, 2, 3],\n",
       "       [1, 2, 3],\n",
       "       [1, 2, 3],\n",
       "       [1, 2, 3],\n",
       "       [1, 2, 3]])"
      ]
     },
     "execution_count": 21,
     "metadata": {},
     "output_type": "execute_result"
    }
   ],
   "execution_count": 21
  },
  {
   "metadata": {},
   "cell_type": "markdown",
   "source": "### Random Arrays",
   "id": "ff5c2146e77dddca"
  },
  {
   "metadata": {
    "ExecuteTime": {
     "end_time": "2024-06-13T10:33:22.892375Z",
     "start_time": "2024-06-13T10:33:22.890091Z"
    }
   },
   "cell_type": "code",
   "source": [
    "# Type 1: Argument is the dimension Iterable\n",
    "np.random.random_sample((4, 2))"
   ],
   "id": "47d0d6b8d320aab",
   "outputs": [
    {
     "data": {
      "text/plain": [
       "array([[0.01600845, 0.62356577],\n",
       "       [0.44157046, 0.41545118],\n",
       "       [0.65738305, 0.11033291],\n",
       "       [0.35655917, 0.17142261]])"
      ]
     },
     "execution_count": 22,
     "metadata": {},
     "output_type": "execute_result"
    }
   ],
   "execution_count": 22
  },
  {
   "metadata": {
    "ExecuteTime": {
     "end_time": "2024-06-13T10:33:23.377870Z",
     "start_time": "2024-06-13T10:33:23.375574Z"
    }
   },
   "cell_type": "code",
   "source": [
    "# Type 2: Unpacked Arguments\n",
    "np.random.rand(4, 2)"
   ],
   "id": "3e4b686b74b5d68b",
   "outputs": [
    {
     "data": {
      "text/plain": [
       "array([[0.92762275, 0.16922827],\n",
       "       [0.49187279, 0.58106724],\n",
       "       [0.33816973, 0.34027632],\n",
       "       [0.15076887, 0.6259183 ]])"
      ]
     },
     "execution_count": 23,
     "metadata": {},
     "output_type": "execute_result"
    }
   ],
   "execution_count": 23
  },
  {
   "metadata": {
    "ExecuteTime": {
     "end_time": "2024-06-13T10:33:24.110625Z",
     "start_time": "2024-06-13T10:33:24.108052Z"
    }
   },
   "cell_type": "code",
   "source": [
    "# Random Integer Values\n",
    "np.random.randint(7, size=(3, 3))  # The 7 here is the higher limit. If we aren't passing both the low and high arguments, it is considered as high, and it should be > 0."
   ],
   "id": "e000c12d2c5a34d8",
   "outputs": [
    {
     "data": {
      "text/plain": [
       "array([[4, 5, 4],\n",
       "       [5, 4, 2],\n",
       "       [0, 3, 3]])"
      ]
     },
     "execution_count": 24,
     "metadata": {},
     "output_type": "execute_result"
    }
   ],
   "execution_count": 24
  },
  {
   "metadata": {},
   "cell_type": "markdown",
   "source": [
    "### Exercise:\n",
    "Try to get this array without manually typing:<br>\n",
    "[[1, 1, 1, 1, 1],<br>\n",
    " [1, 0, 0, 0, 1],<br>\n",
    " [1, 0, 9, 0, 1],<br>\n",
    " [1, 0, 0, 0, 1],<br>\n",
    " [1, 1, 1, 1, 1]]"
   ],
   "id": "611f4f9caaaf829f"
  },
  {
   "metadata": {
    "ExecuteTime": {
     "end_time": "2024-06-13T10:33:34.102114Z",
     "start_time": "2024-06-13T10:33:34.099502Z"
    }
   },
   "cell_type": "code",
   "source": [
    "exercise = np.ones((5, 5))\n",
    "exercise[1:-1, 1:-1] = np.zeros((3, 3))\n",
    "exercise[2, 2] = 9\n",
    "exercise"
   ],
   "id": "53d122b3acc785e8",
   "outputs": [
    {
     "data": {
      "text/plain": [
       "array([[1., 1., 1., 1., 1.],\n",
       "       [1., 0., 0., 0., 1.],\n",
       "       [1., 0., 9., 0., 1.],\n",
       "       [1., 0., 0., 0., 1.],\n",
       "       [1., 1., 1., 1., 1.]])"
      ]
     },
     "execution_count": 25,
     "metadata": {},
     "output_type": "execute_result"
    }
   ],
   "execution_count": 25
  },
  {
   "metadata": {},
   "cell_type": "markdown",
   "source": "## Copying arrays",
   "id": "5dc55c6901015001"
  },
  {
   "metadata": {
    "ExecuteTime": {
     "end_time": "2024-06-13T10:33:36.765116Z",
     "start_time": "2024-06-13T10:33:36.761539Z"
    }
   },
   "cell_type": "code",
   "source": [
    "omegaA = np.array([1, 2, 3])\n",
    "phiA = omegaA\n",
    "phiA[0] = 100\n",
    "omegaA"
   ],
   "id": "3254ebf148de6bbd",
   "outputs": [
    {
     "data": {
      "text/plain": [
       "array([100,   2,   3])"
      ]
     },
     "execution_count": 26,
     "metadata": {},
     "output_type": "execute_result"
    }
   ],
   "execution_count": 26
  },
  {
   "metadata": {
    "ExecuteTime": {
     "end_time": "2024-06-13T10:33:38.330361Z",
     "start_time": "2024-06-13T10:33:38.327001Z"
    }
   },
   "cell_type": "code",
   "source": [
    "omegaB = np.array([1, 2, 3])\n",
    "phiB = omegaB.copy()\n",
    "phiB[0] = 100\n",
    "omegaB"
   ],
   "id": "303f75666224c30f",
   "outputs": [
    {
     "data": {
      "text/plain": [
       "array([1, 2, 3])"
      ]
     },
     "execution_count": 27,
     "metadata": {},
     "output_type": "execute_result"
    }
   ],
   "execution_count": 27
  },
  {
   "metadata": {},
   "cell_type": "markdown",
   "source": "for more info on array initialization, checkout this [website](https://numpy.org/doc/stable/reference/routines.array-creation.html).",
   "id": "301210c5a3d274f2"
  },
  {
   "metadata": {},
   "cell_type": "markdown",
   "source": "## Mathematics",
   "id": "ae444cb74b35fac1"
  },
  {
   "metadata": {
    "ExecuteTime": {
     "end_time": "2024-06-13T10:33:42.376761Z",
     "start_time": "2024-06-13T10:33:42.373567Z"
    }
   },
   "cell_type": "code",
   "source": [
    "a_M = np.array([1, 2, 5, 7])\n",
    "print(a_M + 2, a_M * 2, sep='\\n')  # a_M - 2, a_M / 2 and a_M ** 2 also work. Other overloaded operations such as +=, -= ... also work. (Broadcasting for a + 2)"
   ],
   "id": "5ea87632e0c89912",
   "outputs": [
    {
     "name": "stdout",
     "output_type": "stream",
     "text": [
      "[3 4 7 9]\n",
      "[ 2  4 10 14]\n"
     ]
    }
   ],
   "execution_count": 28
  },
  {
   "metadata": {
    "ExecuteTime": {
     "end_time": "2024-06-13T10:33:43.297054Z",
     "start_time": "2024-06-13T10:33:43.293440Z"
    }
   },
   "cell_type": "code",
   "source": [
    "# np.sin([array]) gives the sine of each term in the array\n",
    "np.sin(beta)"
   ],
   "id": "ae1673ad1577b924",
   "outputs": [
    {
     "data": {
      "text/plain": [
       "array([[ 0.44394811,  0.00999983,  0.8075581 ,  0.66686964,  0.44394811,\n",
       "         0.56464247,  0.46177918,  0.45288629,  0.51413599,  0.71035327],\n",
       "       [ 0.58914476,  0.61311685, -0.84147098,  0.75128041, -0.84147098,\n",
       "         0.18885889, -0.84147098,  0.8134155 , -0.84147098,  0.35227423],\n",
       "       [ 0.2084599 ,  0.06994285,  0.75128041,  0.68163876,  0.82488571,\n",
       "         0.45288629,  0.23770263,  0.31456656,  0.83049737,  0.55636102],\n",
       "       [ 0.83049737,  0.37092047,  0.03998933,  0.12963414,  0.05996401,\n",
       "         0.00999983,  0.82687954,  0.83049737,  0.43496553,  0.61311685],\n",
       "       [ 0.00999983,  0.49688014, -0.84147098,  0.1097783 , -0.84147098,\n",
       "         0.75784256, -0.84147098,  0.77073888, -0.84147098,  0.63653718],\n",
       "       [ 0.77073888,  0.61311685,  0.36161543,  0.75128041,  0.49688014,\n",
       "         0.21822962,  0.81919157,  0.05996401,  0.82488571,  0.46177918],\n",
       "       [ 0.40776045,  0.47942554,  0.74464312,  0.62879302,  0.40776045,\n",
       "         0.05996401,  0.39860933,  0.62879302,  0.21822962,  0.73793137],\n",
       "       [ 0.71035327,  0.04997917, -0.84147098,  0.71035327, -0.84147098,\n",
       "         0.75784256, -0.84147098,  0.32404303, -0.84147098,  0.26673144],\n",
       "       [ 0.4168708 ,  0.40776045,  0.54802394,  0.62098599,  0.56464247,\n",
       "         0.0299955 ,  0.62098599,  0.64421769,  0.27635565,  0.00999983],\n",
       "       [ 0.62098599,  0.45288629,  0.68892145,  0.8075581 ,  0.55636102,\n",
       "         0.60518641,  0.00999983,  0.62879302,  0.08987855,  0.11971221]])"
      ]
     },
     "execution_count": 29,
     "metadata": {},
     "output_type": "execute_result"
    }
   ],
   "execution_count": 29
  },
  {
   "metadata": {},
   "cell_type": "markdown",
   "source": "For a lot more, visit this [website](https://numpy.org/doc/stable/reference/routines.math.html)",
   "id": "95cfa50231096ff8"
  },
  {
   "metadata": {},
   "cell_type": "markdown",
   "source": "## Linear Algebra",
   "id": "2d7dda4154f70f34"
  },
  {
   "metadata": {
    "ExecuteTime": {
     "end_time": "2024-06-13T10:33:45.483972Z",
     "start_time": "2024-06-13T10:33:45.480197Z"
    }
   },
   "cell_type": "code",
   "source": [
    "epsilonA = np.ones((2, 3))\n",
    "epsilonA"
   ],
   "id": "f1c287303ae57c84",
   "outputs": [
    {
     "data": {
      "text/plain": [
       "array([[1., 1., 1.],\n",
       "       [1., 1., 1.]])"
      ]
     },
     "execution_count": 30,
     "metadata": {},
     "output_type": "execute_result"
    }
   ],
   "execution_count": 30
  },
  {
   "metadata": {
    "ExecuteTime": {
     "end_time": "2024-06-13T10:33:46.008763Z",
     "start_time": "2024-06-13T10:33:46.005665Z"
    }
   },
   "cell_type": "code",
   "source": [
    "epsilonB = np.full((3, 2), 2)\n",
    "epsilonB"
   ],
   "id": "ea0a54282ca7fd4a",
   "outputs": [
    {
     "data": {
      "text/plain": [
       "array([[2, 2],\n",
       "       [2, 2],\n",
       "       [2, 2]])"
      ]
     },
     "execution_count": 31,
     "metadata": {},
     "output_type": "execute_result"
    }
   ],
   "execution_count": 31
  },
  {
   "metadata": {
    "ExecuteTime": {
     "end_time": "2024-06-13T10:33:46.656368Z",
     "start_time": "2024-06-13T10:33:46.474374Z"
    }
   },
   "cell_type": "code",
   "source": "epsilonA*epsilonB",
   "id": "bb2c2022390a5533",
   "outputs": [
    {
     "ename": "ValueError",
     "evalue": "operands could not be broadcast together with shapes (2,3) (3,2) ",
     "output_type": "error",
     "traceback": [
      "\u001B[0;31m---------------------------------------------------------------------------\u001B[0m",
      "\u001B[0;31mValueError\u001B[0m                                Traceback (most recent call last)",
      "Cell \u001B[0;32mIn[32], line 1\u001B[0m\n\u001B[0;32m----> 1\u001B[0m epsilonA\u001B[38;5;241m*\u001B[39mepsilonB\n",
      "\u001B[0;31mValueError\u001B[0m: operands could not be broadcast together with shapes (2,3) (3,2) "
     ]
    }
   ],
   "execution_count": 32
  },
  {
   "metadata": {
    "ExecuteTime": {
     "end_time": "2024-06-13T10:33:48.130282Z",
     "start_time": "2024-06-13T10:33:48.126905Z"
    }
   },
   "cell_type": "code",
   "source": "np.matmul(epsilonA, epsilonB)",
   "id": "e03fb5c48d14a5ee",
   "outputs": [
    {
     "data": {
      "text/plain": [
       "array([[6., 6.],\n",
       "       [6., 6.]])"
      ]
     },
     "execution_count": 33,
     "metadata": {},
     "output_type": "execute_result"
    }
   ],
   "execution_count": 33
  },
  {
   "metadata": {
    "ExecuteTime": {
     "end_time": "2024-06-13T10:33:48.546508Z",
     "start_time": "2024-06-13T10:33:48.543760Z"
    }
   },
   "cell_type": "code",
   "source": [
    "epsilonC = np.identity(3)\n",
    "epsilonC"
   ],
   "id": "14647b9f548b7321",
   "outputs": [
    {
     "data": {
      "text/plain": [
       "array([[1., 0., 0.],\n",
       "       [0., 1., 0.],\n",
       "       [0., 0., 1.]])"
      ]
     },
     "execution_count": 34,
     "metadata": {},
     "output_type": "execute_result"
    }
   ],
   "execution_count": 34
  },
  {
   "metadata": {
    "ExecuteTime": {
     "end_time": "2024-06-13T10:33:49.020115Z",
     "start_time": "2024-06-13T10:33:49.018030Z"
    }
   },
   "cell_type": "code",
   "source": "np.linalg.det(epsilonC)",
   "id": "70deb6281a2ed829",
   "outputs": [
    {
     "data": {
      "text/plain": [
       "1.0"
      ]
     },
     "execution_count": 35,
     "metadata": {},
     "output_type": "execute_result"
    }
   ],
   "execution_count": 35
  },
  {
   "metadata": {},
   "cell_type": "markdown",
   "source": [
    "Reference docs \n",
    "1. https://docs.scipy.org/doc/numpy/reference/routines.Linalg.html and\n",
    "2. https://numpy.org/doc/stable/reference/routines.linalg.html\n",
    "for `np` Linear Algebra.\n",
    "- Determinant\n",
    "- Trace\n",
    "- Singular Vector Decomposition\n",
    "- Eigenvalues\n",
    "- Matrix Norm\n",
    "- Inverse\n",
    "- Etc..."
   ],
   "id": "7bc808920baba79c"
  },
  {
   "metadata": {},
   "cell_type": "markdown",
   "source": "## Statistics",
   "id": "b7b7adafbd9f3a74"
  },
  {
   "metadata": {
    "ExecuteTime": {
     "end_time": "2024-06-13T10:33:50.526952Z",
     "start_time": "2024-06-13T10:33:50.524423Z"
    }
   },
   "cell_type": "code",
   "source": [
    "stats = np.array([[3, 2, 1], [4, 5, 6]])\n",
    "stats"
   ],
   "id": "409727ef3c423632",
   "outputs": [
    {
     "data": {
      "text/plain": [
       "array([[3, 2, 1],\n",
       "       [4, 5, 6]])"
      ]
     },
     "execution_count": 36,
     "metadata": {},
     "output_type": "execute_result"
    }
   ],
   "execution_count": 36
  },
  {
   "metadata": {
    "ExecuteTime": {
     "end_time": "2024-06-13T10:33:50.968586Z",
     "start_time": "2024-06-13T10:33:50.966290Z"
    }
   },
   "cell_type": "code",
   "source": "np.min(stats)",
   "id": "894d73798d4e5bee",
   "outputs": [
    {
     "data": {
      "text/plain": [
       "1"
      ]
     },
     "execution_count": 37,
     "metadata": {},
     "output_type": "execute_result"
    }
   ],
   "execution_count": 37
  },
  {
   "metadata": {
    "ExecuteTime": {
     "end_time": "2024-06-13T10:33:51.423964Z",
     "start_time": "2024-06-13T10:33:51.421636Z"
    }
   },
   "cell_type": "code",
   "source": "np.max(stats)",
   "id": "bc1c14aed8ec3d59",
   "outputs": [
    {
     "data": {
      "text/plain": [
       "6"
      ]
     },
     "execution_count": 38,
     "metadata": {},
     "output_type": "execute_result"
    }
   ],
   "execution_count": 38
  },
  {
   "metadata": {
    "ExecuteTime": {
     "end_time": "2024-06-13T10:33:51.921452Z",
     "start_time": "2024-06-13T10:33:51.919205Z"
    }
   },
   "cell_type": "code",
   "source": "np.min(stats, axis=0)",
   "id": "d476d1ed3048b2ed",
   "outputs": [
    {
     "data": {
      "text/plain": [
       "array([3, 2, 1])"
      ]
     },
     "execution_count": 39,
     "metadata": {},
     "output_type": "execute_result"
    }
   ],
   "execution_count": 39
  },
  {
   "metadata": {
    "ExecuteTime": {
     "end_time": "2024-06-13T10:33:52.265047Z",
     "start_time": "2024-06-13T10:33:52.262482Z"
    }
   },
   "cell_type": "code",
   "source": "np.max(stats, axis=1)",
   "id": "18729051e319ed28",
   "outputs": [
    {
     "data": {
      "text/plain": [
       "array([3, 6])"
      ]
     },
     "execution_count": 40,
     "metadata": {},
     "output_type": "execute_result"
    }
   ],
   "execution_count": 40
  },
  {
   "metadata": {
    "ExecuteTime": {
     "end_time": "2024-06-13T10:33:52.747556Z",
     "start_time": "2024-06-13T10:33:52.745452Z"
    }
   },
   "cell_type": "code",
   "source": "np.sum(stats)",
   "id": "c797e8699f0420dd",
   "outputs": [
    {
     "data": {
      "text/plain": [
       "21"
      ]
     },
     "execution_count": 41,
     "metadata": {},
     "output_type": "execute_result"
    }
   ],
   "execution_count": 41
  },
  {
   "metadata": {
    "ExecuteTime": {
     "end_time": "2024-06-13T10:33:53.176334Z",
     "start_time": "2024-06-13T10:33:53.173663Z"
    }
   },
   "cell_type": "code",
   "source": "np.sum(stats, axis=1)",
   "id": "dd734147ed6bd036",
   "outputs": [
    {
     "data": {
      "text/plain": [
       "array([ 6, 15])"
      ]
     },
     "execution_count": 42,
     "metadata": {},
     "output_type": "execute_result"
    }
   ],
   "execution_count": 42
  },
  {
   "metadata": {},
   "cell_type": "markdown",
   "source": "## Reorganising Arrays",
   "id": "9503c1095f92e973"
  },
  {
   "metadata": {
    "ExecuteTime": {
     "end_time": "2024-06-13T10:33:53.972275Z",
     "start_time": "2024-06-13T10:33:53.969882Z"
    }
   },
   "cell_type": "code",
   "source": [
    "beforeReshaping = np.array([[1, 2, 3, 4], [5, 6, 7, 8]])\n",
    "beforeReshaping"
   ],
   "id": "71961fc8f9d905a2",
   "outputs": [
    {
     "data": {
      "text/plain": [
       "array([[1, 2, 3, 4],\n",
       "       [5, 6, 7, 8]])"
      ]
     },
     "execution_count": 43,
     "metadata": {},
     "output_type": "execute_result"
    }
   ],
   "execution_count": 43
  },
  {
   "metadata": {
    "ExecuteTime": {
     "end_time": "2024-06-13T10:33:54.399617Z",
     "start_time": "2024-06-13T10:33:54.397536Z"
    }
   },
   "cell_type": "code",
   "source": "beforeReshaping.reshape(8, 1)",
   "id": "ff7b7f005bfce40e",
   "outputs": [
    {
     "data": {
      "text/plain": [
       "array([[1],\n",
       "       [2],\n",
       "       [3],\n",
       "       [4],\n",
       "       [5],\n",
       "       [6],\n",
       "       [7],\n",
       "       [8]])"
      ]
     },
     "execution_count": 44,
     "metadata": {},
     "output_type": "execute_result"
    }
   ],
   "execution_count": 44
  },
  {
   "metadata": {
    "ExecuteTime": {
     "end_time": "2024-06-13T10:33:54.837585Z",
     "start_time": "2024-06-13T10:33:54.835130Z"
    }
   },
   "cell_type": "code",
   "source": "beforeReshaping.reshape(4, 2)",
   "id": "d7a4b0d862968da4",
   "outputs": [
    {
     "data": {
      "text/plain": [
       "array([[1, 2],\n",
       "       [3, 4],\n",
       "       [5, 6],\n",
       "       [7, 8]])"
      ]
     },
     "execution_count": 45,
     "metadata": {},
     "output_type": "execute_result"
    }
   ],
   "execution_count": 45
  },
  {
   "metadata": {
    "ExecuteTime": {
     "end_time": "2024-06-13T10:33:55.300495Z",
     "start_time": "2024-06-13T10:33:55.298269Z"
    }
   },
   "cell_type": "code",
   "source": "beforeReshaping.reshape(8)",
   "id": "6d9a3818d36bd176",
   "outputs": [
    {
     "data": {
      "text/plain": [
       "array([1, 2, 3, 4, 5, 6, 7, 8])"
      ]
     },
     "execution_count": 46,
     "metadata": {},
     "output_type": "execute_result"
    }
   ],
   "execution_count": 46
  },
  {
   "metadata": {
    "ExecuteTime": {
     "end_time": "2024-06-13T10:33:55.743598Z",
     "start_time": "2024-06-13T10:33:55.734313Z"
    }
   },
   "cell_type": "code",
   "source": "beforeReshaping.reshape(6, 2)",
   "id": "ccc792d11ed6323a",
   "outputs": [
    {
     "ename": "ValueError",
     "evalue": "cannot reshape array of size 8 into shape (6,2)",
     "output_type": "error",
     "traceback": [
      "\u001B[0;31m---------------------------------------------------------------------------\u001B[0m",
      "\u001B[0;31mValueError\u001B[0m                                Traceback (most recent call last)",
      "Cell \u001B[0;32mIn[47], line 1\u001B[0m\n\u001B[0;32m----> 1\u001B[0m beforeReshaping\u001B[38;5;241m.\u001B[39mreshape(\u001B[38;5;241m6\u001B[39m, \u001B[38;5;241m2\u001B[39m)\n",
      "\u001B[0;31mValueError\u001B[0m: cannot reshape array of size 8 into shape (6,2)"
     ]
    }
   ],
   "execution_count": 47
  },
  {
   "metadata": {
    "ExecuteTime": {
     "end_time": "2024-06-13T10:33:56.567552Z",
     "start_time": "2024-06-13T10:33:56.564798Z"
    }
   },
   "cell_type": "code",
   "source": [
    "# Vertically stacking vectors\n",
    "v1 = np.array([1, 2, 3, 4])\n",
    "v2 = np.array([8, 6, 7, 5])\n",
    "\n",
    "np.vstack([v1, v1, v2, v1, v2])"
   ],
   "id": "8ae7a046315c0c2e",
   "outputs": [
    {
     "data": {
      "text/plain": [
       "array([[1, 2, 3, 4],\n",
       "       [1, 2, 3, 4],\n",
       "       [8, 6, 7, 5],\n",
       "       [1, 2, 3, 4],\n",
       "       [8, 6, 7, 5]])"
      ]
     },
     "execution_count": 48,
     "metadata": {},
     "output_type": "execute_result"
    }
   ],
   "execution_count": 48
  },
  {
   "metadata": {
    "ExecuteTime": {
     "end_time": "2024-06-13T10:33:57.136796Z",
     "start_time": "2024-06-13T10:33:57.134146Z"
    }
   },
   "cell_type": "code",
   "source": [
    "# Horizontal stacking\n",
    "h1 = np.zeros((2, 4))\n",
    "h2 = np.ones((2, 2))\n",
    "\n",
    "np.hstack([h2, h2, h1, h2])  # Even () work, not necessarily []"
   ],
   "id": "74805f5a16c6154a",
   "outputs": [
    {
     "data": {
      "text/plain": [
       "array([[1., 1., 1., 1., 0., 0., 0., 0., 1., 1.],\n",
       "       [1., 1., 1., 1., 0., 0., 0., 0., 1., 1.]])"
      ]
     },
     "execution_count": 49,
     "metadata": {},
     "output_type": "execute_result"
    }
   ],
   "execution_count": 49
  },
  {
   "metadata": {},
   "cell_type": "markdown",
   "source": "## Miscellaneous",
   "id": "4af02d18e7714054"
  },
  {
   "metadata": {},
   "cell_type": "markdown",
   "source": "### Load data from a file",
   "id": "c4e21d661220b62b"
  },
  {
   "metadata": {
    "ExecuteTime": {
     "end_time": "2024-06-13T10:33:58.620082Z",
     "start_time": "2024-06-13T10:33:58.615755Z"
    }
   },
   "cell_type": "code",
   "source": [
    "filedata = np.genfromtxt('data.txt', delimiter=',').astype('int32') \n",
    "# Demonstrating how to convert dtype with a function along with loading the data\n",
    "\n",
    "filedata"
   ],
   "id": "a0df1ab4ae9dd922",
   "outputs": [
    {
     "data": {
      "text/plain": [
       "array([[38, 45, 26, 37, 23, 29, 17, 48, 24, 74],\n",
       "       [18, 55, 93, 77, 48, 56, 23, 29, 86, 55],\n",
       "       [48, 89, 73,  9, 96, 47, 54, 72, 89, 99],\n",
       "       [83, 45, 35, 17, 97, 90, 64, 20, 46, 37],\n",
       "       [58,  9, 12, 32, 19, 16, 70, 11, 10, 20],\n",
       "       [97, 31, 35, 70, 51, 76, 55, 90, 97, 49],\n",
       "       [62, 25, 26,  9, 81, 41, 56,  1, 81, 98],\n",
       "       [27, 87, 97, 37, 54, 86, 41, 84, 42, 94],\n",
       "       [48, 40, 62, 34,  0,  0, 66, 14, 26, 32],\n",
       "       [ 2, 31,  5, 21, 22, 64, 16, 35, 67, 81],\n",
       "       [29, 45, 93, 13, 25, 29,  0, 39,  6, 72],\n",
       "       [36, 23, 90, 25, 31, 38, 23, 15, 92, 40],\n",
       "       [21, 25, 58,  5, 60, 81, 99, 18, 24, 22],\n",
       "       [13, 67, 14,  5, 47, 86, 78, 93, 61, 98],\n",
       "       [39,  0, 85, 21, 54,  4, 40, 85, 87,  3],\n",
       "       [78, 75, 40, 31, 28, 33,  5, 16, 64, 38],\n",
       "       [44, 60, 88, 93, 23, 74, 31, 53, 36,  0],\n",
       "       [64, 29, 14, 39, 44,  3, 38, 84, 79,  2],\n",
       "       [79, 42, 73, 19,  8, 50, 68,  8, 37, 47],\n",
       "       [10,  6, 83, 39, 31, 65, 94, 63, 47, 41],\n",
       "       [62, 51,  3, 22, 86, 73, 98, 74, 94, 37],\n",
       "       [32,  2, 88, 64, 54, 55, 45, 22, 23, 57],\n",
       "       [56,  6, 58, 25, 22, 46, 22, 40, 35, 62],\n",
       "       [56, 74,  6, 38, 41, 89, 16, 47,  9, 20],\n",
       "       [31, 38, 51, 38, 10, 13,  0, 31, 52, 35],\n",
       "       [76, 72, 11, 23,  9, 68, 24, 47, 94, 21],\n",
       "       [58, 74, 28, 16, 71, 40, 87, 80, 42,  8],\n",
       "       [28, 33, 60, 34, 14, 56, 63, 48, 10, 31],\n",
       "       [46, 84, 42, 60,  4, 82, 24, 16, 30, 22],\n",
       "       [42, 68, 93, 65, 23,  3, 62, 75, 86, 54],\n",
       "       [68, 81, 65, 88,  7, 94, 75, 43, 42, 50],\n",
       "       [ 9,  7, 57,  9, 72, 30, 22, 82, 24, 37],\n",
       "       [75, 50, 36, 49, 18, 53, 72, 69, 73, 50],\n",
       "       [38, 23, 79,  3, 47, 98, 84, 63, 28, 80],\n",
       "       [ 8, 13, 73, 92, 66, 71, 29, 51,  0, 64],\n",
       "       [25, 98, 49,  6, 33, 50, 94, 82, 34, 60],\n",
       "       [ 6, 60, 53, 29, 28, 19, 90, 97, 39, 30],\n",
       "       [65, 77, 56,  2, 54, 51, 11, 10, 84, 32],\n",
       "       [32, 14, 74,  0, 76, 33,  8, 46, 43, 60],\n",
       "       [ 7, 97, 31, 27, 71, 24, 74, 81, 53, 48],\n",
       "       [91, 51, 85, 86, 99, 95, 45, 39, 97, 16],\n",
       "       [65, 10, 86, 70, 35, 37,  3, 73, 64,  7],\n",
       "       [18,  3, 45, 40, 41, 97, 79, 29, 67, 78],\n",
       "       [99, 82,  0, 45, 63, 88, 52, 39, 24, 78],\n",
       "       [22, 37, 52, 74, 51, 84, 55,  3, 12, 62],\n",
       "       [22, 10, 18, 57, 10, 13, 23, 10, 33, 56],\n",
       "       [11, 11, 50, 49, 91, 93, 56, 12, 15, 85],\n",
       "       [83, 80, 79, 90, 33, 56, 32, 24,  4, 42],\n",
       "       [72, 46, 59, 66,  2, 75, 70, 13, 17, 55],\n",
       "       [17, 22, 44, 79, 25, 29, 48, 49,  8, 13],\n",
       "       [ 6, 37, 80, 67, 52, 73, 59,  3, 14, 97],\n",
       "       [51, 41, 28, 63, 92, 61, 55, 88, 38, 29],\n",
       "       [20, 68, 92, 14, 98, 98, 30, 29, 75, 93],\n",
       "       [ 6, 58, 75, 22,  7, 80, 79,  7, 78, 87],\n",
       "       [38, 92, 21, 78, 62, 59, 49, 86, 10, 66],\n",
       "       [61, 70, 15, 73, 26, 68, 15,  7, 49, 12],\n",
       "       [98, 39, 50, 25, 76, 93, 34, 17, 99, 88],\n",
       "       [83, 54, 89, 44, 98, 37,  4, 44, 60, 19],\n",
       "       [92, 37, 96, 63, 95, 46, 57, 68, 66, 34],\n",
       "       [65, 88,  5, 45,  0, 77, 64, 55, 12, 80],\n",
       "       [75, 15,  1, 39, 75, 65, 80,  6, 27, 23],\n",
       "       [54, 28, 72, 44, 45, 11, 39, 10, 90, 52],\n",
       "       [92, 48, 97, 89,  4, 61, 29, 22, 46, 97],\n",
       "       [87, 93, 10, 29, 15, 93,  8, 18, 59, 37],\n",
       "       [77, 35, 60, 55, 31, 26, 67, 98, 89, 45],\n",
       "       [14, 34, 75, 17, 14, 39, 97, 51, 77, 37],\n",
       "       [86, 56, 52, 36, 91, 43, 20, 14, 11, 26],\n",
       "       [62, 52, 18, 80, 61, 50, 77, 85, 64, 19],\n",
       "       [55, 36, 66, 67, 58, 94, 88, 18, 17, 81],\n",
       "       [93, 22, 75, 66,  9, 64, 47,  7, 98, 17],\n",
       "       [ 0, 38, 77, 99, 27, 34, 42, 76, 17, 26],\n",
       "       [37, 46, 36, 99, 12, 29,  1, 63, 17, 34],\n",
       "       [61, 62, 86, 45, 37, 26, 43,  0,  3, 82],\n",
       "       [10, 41, 60, 55, 78, 95,  3, 13, 54, 44],\n",
       "       [22, 88, 21, 94, 71, 42, 98, 27, 47, 35],\n",
       "       [13,  7, 69, 13, 44, 16, 95, 30, 38, 81],\n",
       "       [94, 53, 21, 72, 30, 28, 20, 26, 61, 48],\n",
       "       [95, 45, 96, 40, 36, 46, 58, 33, 41, 46],\n",
       "       [95, 75, 73,  1, 37, 96, 60, 45, 53, 35],\n",
       "       [65,  1,  0, 50, 58,  1, 88, 99, 57, 93],\n",
       "       [62, 92, 73, 33, 18, 34, 83, 26, 32, 87],\n",
       "       [32, 47, 52, 29, 59, 41, 77, 84, 73,  4],\n",
       "       [96,  9,  2, 51, 76, 41, 83,  9, 44, 92],\n",
       "       [66, 74, 26, 66, 93, 30, 88, 81, 80, 55],\n",
       "       [69, 42, 39, 42, 93, 50, 38, 72, 13, 24],\n",
       "       [ 2, 80, 51,  4, 89, 67,  1, 34, 35, 43],\n",
       "       [21, 90, 50, 91, 83, 64, 83, 55, 38, 11],\n",
       "       [59,  9,  6, 38, 59, 20, 32, 78, 71, 60],\n",
       "       [75, 69, 24, 26, 93,  8, 10, 70, 57, 38],\n",
       "       [28, 29, 59, 87, 25, 70, 84,  1,  1,  7],\n",
       "       [90, 14, 49, 91, 89, 96, 88, 99, 65, 73],\n",
       "       [35, 65, 40, 51, 82, 63, 91, 99, 91, 49],\n",
       "       [11,  8, 13, 49, 48, 96, 44, 71, 19, 74],\n",
       "       [96, 19,  7, 48,  6, 56,  6, 13, 70, 91],\n",
       "       [41, 76, 41, 36, 99, 71, 50, 57, 96, 12],\n",
       "       [54, 72, 74, 50,  1,  8, 39, 45, 77, 33],\n",
       "       [49, 26, 33, 72, 75, 87, 35, 78,  5, 75],\n",
       "       [20, 99, 35, 37, 25, 81, 31, 68, 59, 60],\n",
       "       [39,  8, 59, 71, 33, 69, 35, 84, 58, 99],\n",
       "       [65, 98, 46, 15,  1, 34, 19, 18, 76, 43]], dtype=int32)"
      ]
     },
     "execution_count": 50,
     "metadata": {},
     "output_type": "execute_result"
    }
   ],
   "execution_count": 50
  },
  {
   "metadata": {},
   "cell_type": "markdown",
   "source": "### Boolean Masking",
   "id": "cdf6eac67ce985bc"
  },
  {
   "metadata": {
    "ExecuteTime": {
     "end_time": "2024-06-13T10:33:59.613072Z",
     "start_time": "2024-06-13T10:33:59.610348Z"
    }
   },
   "cell_type": "code",
   "source": "filedata > 50",
   "id": "81f0a8034029a1b5",
   "outputs": [
    {
     "data": {
      "text/plain": [
       "array([[False, False, False, False, False, False, False, False, False,\n",
       "         True],\n",
       "       [False,  True,  True,  True, False,  True, False, False,  True,\n",
       "         True],\n",
       "       [False,  True,  True, False,  True, False,  True,  True,  True,\n",
       "         True],\n",
       "       [ True, False, False, False,  True,  True,  True, False, False,\n",
       "        False],\n",
       "       [ True, False, False, False, False, False,  True, False, False,\n",
       "        False],\n",
       "       [ True, False, False,  True,  True,  True,  True,  True,  True,\n",
       "        False],\n",
       "       [ True, False, False, False,  True, False,  True, False,  True,\n",
       "         True],\n",
       "       [False,  True,  True, False,  True,  True, False,  True, False,\n",
       "         True],\n",
       "       [False, False,  True, False, False, False,  True, False, False,\n",
       "        False],\n",
       "       [False, False, False, False, False,  True, False, False,  True,\n",
       "         True],\n",
       "       [False, False,  True, False, False, False, False, False, False,\n",
       "         True],\n",
       "       [False, False,  True, False, False, False, False, False,  True,\n",
       "        False],\n",
       "       [False, False,  True, False,  True,  True,  True, False, False,\n",
       "        False],\n",
       "       [False,  True, False, False, False,  True,  True,  True,  True,\n",
       "         True],\n",
       "       [False, False,  True, False,  True, False, False,  True,  True,\n",
       "        False],\n",
       "       [ True,  True, False, False, False, False, False, False,  True,\n",
       "        False],\n",
       "       [False,  True,  True,  True, False,  True, False,  True, False,\n",
       "        False],\n",
       "       [ True, False, False, False, False, False, False,  True,  True,\n",
       "        False],\n",
       "       [ True, False,  True, False, False, False,  True, False, False,\n",
       "        False],\n",
       "       [False, False,  True, False, False,  True,  True,  True, False,\n",
       "        False],\n",
       "       [ True,  True, False, False,  True,  True,  True,  True,  True,\n",
       "        False],\n",
       "       [False, False,  True,  True,  True,  True, False, False, False,\n",
       "         True],\n",
       "       [ True, False,  True, False, False, False, False, False, False,\n",
       "         True],\n",
       "       [ True,  True, False, False, False,  True, False, False, False,\n",
       "        False],\n",
       "       [False, False,  True, False, False, False, False, False,  True,\n",
       "        False],\n",
       "       [ True,  True, False, False, False,  True, False, False,  True,\n",
       "        False],\n",
       "       [ True,  True, False, False,  True, False,  True,  True, False,\n",
       "        False],\n",
       "       [False, False,  True, False, False,  True,  True, False, False,\n",
       "        False],\n",
       "       [False,  True, False,  True, False,  True, False, False, False,\n",
       "        False],\n",
       "       [False,  True,  True,  True, False, False,  True,  True,  True,\n",
       "         True],\n",
       "       [ True,  True,  True,  True, False,  True,  True, False, False,\n",
       "        False],\n",
       "       [False, False,  True, False,  True, False, False,  True, False,\n",
       "        False],\n",
       "       [ True, False, False, False, False,  True,  True,  True,  True,\n",
       "        False],\n",
       "       [False, False,  True, False, False,  True,  True,  True, False,\n",
       "         True],\n",
       "       [False, False,  True,  True,  True,  True, False,  True, False,\n",
       "         True],\n",
       "       [False,  True, False, False, False, False,  True,  True, False,\n",
       "         True],\n",
       "       [False,  True,  True, False, False, False,  True,  True, False,\n",
       "        False],\n",
       "       [ True,  True,  True, False,  True,  True, False, False,  True,\n",
       "        False],\n",
       "       [False, False,  True, False,  True, False, False, False, False,\n",
       "         True],\n",
       "       [False,  True, False, False,  True, False,  True,  True,  True,\n",
       "        False],\n",
       "       [ True,  True,  True,  True,  True,  True, False, False,  True,\n",
       "        False],\n",
       "       [ True, False,  True,  True, False, False, False,  True,  True,\n",
       "        False],\n",
       "       [False, False, False, False, False,  True,  True, False,  True,\n",
       "         True],\n",
       "       [ True,  True, False, False,  True,  True,  True, False, False,\n",
       "         True],\n",
       "       [False, False,  True,  True,  True,  True,  True, False, False,\n",
       "         True],\n",
       "       [False, False, False,  True, False, False, False, False, False,\n",
       "         True],\n",
       "       [False, False, False, False,  True,  True,  True, False, False,\n",
       "         True],\n",
       "       [ True,  True,  True,  True, False,  True, False, False, False,\n",
       "        False],\n",
       "       [ True, False,  True,  True, False,  True,  True, False, False,\n",
       "         True],\n",
       "       [False, False, False,  True, False, False, False, False, False,\n",
       "        False],\n",
       "       [False, False,  True,  True,  True,  True,  True, False, False,\n",
       "         True],\n",
       "       [ True, False, False,  True,  True,  True,  True,  True, False,\n",
       "        False],\n",
       "       [False,  True,  True, False,  True,  True, False, False,  True,\n",
       "         True],\n",
       "       [False,  True,  True, False, False,  True,  True, False,  True,\n",
       "         True],\n",
       "       [False,  True, False,  True,  True,  True, False,  True, False,\n",
       "         True],\n",
       "       [ True,  True, False,  True, False,  True, False, False, False,\n",
       "        False],\n",
       "       [ True, False, False, False,  True,  True, False, False,  True,\n",
       "         True],\n",
       "       [ True,  True,  True, False,  True, False, False, False,  True,\n",
       "        False],\n",
       "       [ True, False,  True,  True,  True, False,  True,  True,  True,\n",
       "        False],\n",
       "       [ True,  True, False, False, False,  True,  True,  True, False,\n",
       "         True],\n",
       "       [ True, False, False, False,  True,  True,  True, False, False,\n",
       "        False],\n",
       "       [ True, False,  True, False, False, False, False, False,  True,\n",
       "         True],\n",
       "       [ True, False,  True,  True, False,  True, False, False, False,\n",
       "         True],\n",
       "       [ True,  True, False, False, False,  True, False, False,  True,\n",
       "        False],\n",
       "       [ True, False,  True,  True, False, False,  True,  True,  True,\n",
       "        False],\n",
       "       [False, False,  True, False, False, False,  True,  True,  True,\n",
       "        False],\n",
       "       [ True,  True,  True, False,  True, False, False, False, False,\n",
       "        False],\n",
       "       [ True,  True, False,  True,  True, False,  True,  True,  True,\n",
       "        False],\n",
       "       [ True, False,  True,  True,  True,  True,  True, False, False,\n",
       "         True],\n",
       "       [ True, False,  True,  True, False,  True, False, False,  True,\n",
       "        False],\n",
       "       [False, False,  True,  True, False, False, False,  True, False,\n",
       "        False],\n",
       "       [False, False, False,  True, False, False, False,  True, False,\n",
       "        False],\n",
       "       [ True,  True,  True, False, False, False, False, False, False,\n",
       "         True],\n",
       "       [False, False,  True,  True,  True,  True, False, False,  True,\n",
       "        False],\n",
       "       [False,  True, False,  True,  True, False,  True, False, False,\n",
       "        False],\n",
       "       [False, False,  True, False, False, False,  True, False, False,\n",
       "         True],\n",
       "       [ True,  True, False,  True, False, False, False, False,  True,\n",
       "        False],\n",
       "       [ True, False,  True, False, False, False,  True, False, False,\n",
       "        False],\n",
       "       [ True,  True,  True, False, False,  True,  True, False,  True,\n",
       "        False],\n",
       "       [ True, False, False, False,  True, False,  True,  True,  True,\n",
       "         True],\n",
       "       [ True,  True,  True, False, False, False,  True, False, False,\n",
       "         True],\n",
       "       [False, False,  True, False,  True, False,  True,  True,  True,\n",
       "        False],\n",
       "       [ True, False, False,  True,  True, False,  True, False, False,\n",
       "         True],\n",
       "       [ True,  True, False,  True,  True, False,  True,  True,  True,\n",
       "         True],\n",
       "       [ True, False, False, False,  True, False, False,  True, False,\n",
       "        False],\n",
       "       [False,  True,  True, False,  True,  True, False, False, False,\n",
       "        False],\n",
       "       [False,  True, False,  True,  True,  True,  True,  True, False,\n",
       "        False],\n",
       "       [ True, False, False, False,  True, False, False,  True,  True,\n",
       "         True],\n",
       "       [ True,  True, False, False,  True, False, False,  True,  True,\n",
       "        False],\n",
       "       [False, False,  True,  True, False,  True,  True, False, False,\n",
       "        False],\n",
       "       [ True, False, False,  True,  True,  True,  True,  True,  True,\n",
       "         True],\n",
       "       [False,  True, False,  True,  True,  True,  True,  True,  True,\n",
       "        False],\n",
       "       [False, False, False, False, False,  True, False,  True, False,\n",
       "         True],\n",
       "       [ True, False, False, False, False,  True, False, False,  True,\n",
       "         True],\n",
       "       [False,  True, False, False,  True,  True, False,  True,  True,\n",
       "        False],\n",
       "       [ True,  True,  True, False, False, False, False, False,  True,\n",
       "        False],\n",
       "       [False, False, False,  True,  True,  True, False,  True, False,\n",
       "         True],\n",
       "       [False,  True, False, False, False,  True, False,  True,  True,\n",
       "         True],\n",
       "       [False, False,  True,  True, False,  True, False,  True,  True,\n",
       "         True],\n",
       "       [ True,  True, False, False, False, False, False, False,  True,\n",
       "        False]])"
      ]
     },
     "execution_count": 51,
     "metadata": {},
     "output_type": "execute_result"
    }
   ],
   "execution_count": 51
  },
  {
   "metadata": {
    "ExecuteTime": {
     "end_time": "2024-06-13T10:34:00.128645Z",
     "start_time": "2024-06-13T10:34:00.126636Z"
    }
   },
   "cell_type": "code",
   "source": "np.any(filedata > 50, axis=0)",
   "id": "8fc3263c9954fafe",
   "outputs": [
    {
     "data": {
      "text/plain": [
       "array([ True,  True,  True,  True,  True,  True,  True,  True,  True,\n",
       "        True])"
      ]
     },
     "execution_count": 52,
     "metadata": {},
     "output_type": "execute_result"
    }
   ],
   "execution_count": 52
  },
  {
   "metadata": {
    "ExecuteTime": {
     "end_time": "2024-06-13T10:34:00.573868Z",
     "start_time": "2024-06-13T10:34:00.571225Z"
    }
   },
   "cell_type": "code",
   "source": "np.all(filedata > 50, axis=1)",
   "id": "db9c988c9a76bdf5",
   "outputs": [
    {
     "data": {
      "text/plain": [
       "array([False, False, False, False, False, False, False, False, False,\n",
       "       False, False, False, False, False, False, False, False, False,\n",
       "       False, False, False, False, False, False, False, False, False,\n",
       "       False, False, False, False, False, False, False, False, False,\n",
       "       False, False, False, False, False, False, False, False, False,\n",
       "       False, False, False, False, False, False, False, False, False,\n",
       "       False, False, False, False, False, False, False, False, False,\n",
       "       False, False, False, False, False, False, False, False, False,\n",
       "       False, False, False, False, False, False, False, False, False,\n",
       "       False, False, False, False, False, False, False, False, False,\n",
       "       False, False, False, False, False, False, False, False, False,\n",
       "       False])"
      ]
     },
     "execution_count": 53,
     "metadata": {},
     "output_type": "execute_result"
    }
   ],
   "execution_count": 53
  },
  {
   "metadata": {
    "ExecuteTime": {
     "end_time": "2024-06-13T10:34:01.185644Z",
     "start_time": "2024-06-13T10:34:01.182585Z"
    }
   },
   "cell_type": "code",
   "source": "(filedata > 50) & (filedata < 100)",
   "id": "1eeb2abc6fa1171b",
   "outputs": [
    {
     "data": {
      "text/plain": [
       "array([[False, False, False, False, False, False, False, False, False,\n",
       "         True],\n",
       "       [False,  True,  True,  True, False,  True, False, False,  True,\n",
       "         True],\n",
       "       [False,  True,  True, False,  True, False,  True,  True,  True,\n",
       "         True],\n",
       "       [ True, False, False, False,  True,  True,  True, False, False,\n",
       "        False],\n",
       "       [ True, False, False, False, False, False,  True, False, False,\n",
       "        False],\n",
       "       [ True, False, False,  True,  True,  True,  True,  True,  True,\n",
       "        False],\n",
       "       [ True, False, False, False,  True, False,  True, False,  True,\n",
       "         True],\n",
       "       [False,  True,  True, False,  True,  True, False,  True, False,\n",
       "         True],\n",
       "       [False, False,  True, False, False, False,  True, False, False,\n",
       "        False],\n",
       "       [False, False, False, False, False,  True, False, False,  True,\n",
       "         True],\n",
       "       [False, False,  True, False, False, False, False, False, False,\n",
       "         True],\n",
       "       [False, False,  True, False, False, False, False, False,  True,\n",
       "        False],\n",
       "       [False, False,  True, False,  True,  True,  True, False, False,\n",
       "        False],\n",
       "       [False,  True, False, False, False,  True,  True,  True,  True,\n",
       "         True],\n",
       "       [False, False,  True, False,  True, False, False,  True,  True,\n",
       "        False],\n",
       "       [ True,  True, False, False, False, False, False, False,  True,\n",
       "        False],\n",
       "       [False,  True,  True,  True, False,  True, False,  True, False,\n",
       "        False],\n",
       "       [ True, False, False, False, False, False, False,  True,  True,\n",
       "        False],\n",
       "       [ True, False,  True, False, False, False,  True, False, False,\n",
       "        False],\n",
       "       [False, False,  True, False, False,  True,  True,  True, False,\n",
       "        False],\n",
       "       [ True,  True, False, False,  True,  True,  True,  True,  True,\n",
       "        False],\n",
       "       [False, False,  True,  True,  True,  True, False, False, False,\n",
       "         True],\n",
       "       [ True, False,  True, False, False, False, False, False, False,\n",
       "         True],\n",
       "       [ True,  True, False, False, False,  True, False, False, False,\n",
       "        False],\n",
       "       [False, False,  True, False, False, False, False, False,  True,\n",
       "        False],\n",
       "       [ True,  True, False, False, False,  True, False, False,  True,\n",
       "        False],\n",
       "       [ True,  True, False, False,  True, False,  True,  True, False,\n",
       "        False],\n",
       "       [False, False,  True, False, False,  True,  True, False, False,\n",
       "        False],\n",
       "       [False,  True, False,  True, False,  True, False, False, False,\n",
       "        False],\n",
       "       [False,  True,  True,  True, False, False,  True,  True,  True,\n",
       "         True],\n",
       "       [ True,  True,  True,  True, False,  True,  True, False, False,\n",
       "        False],\n",
       "       [False, False,  True, False,  True, False, False,  True, False,\n",
       "        False],\n",
       "       [ True, False, False, False, False,  True,  True,  True,  True,\n",
       "        False],\n",
       "       [False, False,  True, False, False,  True,  True,  True, False,\n",
       "         True],\n",
       "       [False, False,  True,  True,  True,  True, False,  True, False,\n",
       "         True],\n",
       "       [False,  True, False, False, False, False,  True,  True, False,\n",
       "         True],\n",
       "       [False,  True,  True, False, False, False,  True,  True, False,\n",
       "        False],\n",
       "       [ True,  True,  True, False,  True,  True, False, False,  True,\n",
       "        False],\n",
       "       [False, False,  True, False,  True, False, False, False, False,\n",
       "         True],\n",
       "       [False,  True, False, False,  True, False,  True,  True,  True,\n",
       "        False],\n",
       "       [ True,  True,  True,  True,  True,  True, False, False,  True,\n",
       "        False],\n",
       "       [ True, False,  True,  True, False, False, False,  True,  True,\n",
       "        False],\n",
       "       [False, False, False, False, False,  True,  True, False,  True,\n",
       "         True],\n",
       "       [ True,  True, False, False,  True,  True,  True, False, False,\n",
       "         True],\n",
       "       [False, False,  True,  True,  True,  True,  True, False, False,\n",
       "         True],\n",
       "       [False, False, False,  True, False, False, False, False, False,\n",
       "         True],\n",
       "       [False, False, False, False,  True,  True,  True, False, False,\n",
       "         True],\n",
       "       [ True,  True,  True,  True, False,  True, False, False, False,\n",
       "        False],\n",
       "       [ True, False,  True,  True, False,  True,  True, False, False,\n",
       "         True],\n",
       "       [False, False, False,  True, False, False, False, False, False,\n",
       "        False],\n",
       "       [False, False,  True,  True,  True,  True,  True, False, False,\n",
       "         True],\n",
       "       [ True, False, False,  True,  True,  True,  True,  True, False,\n",
       "        False],\n",
       "       [False,  True,  True, False,  True,  True, False, False,  True,\n",
       "         True],\n",
       "       [False,  True,  True, False, False,  True,  True, False,  True,\n",
       "         True],\n",
       "       [False,  True, False,  True,  True,  True, False,  True, False,\n",
       "         True],\n",
       "       [ True,  True, False,  True, False,  True, False, False, False,\n",
       "        False],\n",
       "       [ True, False, False, False,  True,  True, False, False,  True,\n",
       "         True],\n",
       "       [ True,  True,  True, False,  True, False, False, False,  True,\n",
       "        False],\n",
       "       [ True, False,  True,  True,  True, False,  True,  True,  True,\n",
       "        False],\n",
       "       [ True,  True, False, False, False,  True,  True,  True, False,\n",
       "         True],\n",
       "       [ True, False, False, False,  True,  True,  True, False, False,\n",
       "        False],\n",
       "       [ True, False,  True, False, False, False, False, False,  True,\n",
       "         True],\n",
       "       [ True, False,  True,  True, False,  True, False, False, False,\n",
       "         True],\n",
       "       [ True,  True, False, False, False,  True, False, False,  True,\n",
       "        False],\n",
       "       [ True, False,  True,  True, False, False,  True,  True,  True,\n",
       "        False],\n",
       "       [False, False,  True, False, False, False,  True,  True,  True,\n",
       "        False],\n",
       "       [ True,  True,  True, False,  True, False, False, False, False,\n",
       "        False],\n",
       "       [ True,  True, False,  True,  True, False,  True,  True,  True,\n",
       "        False],\n",
       "       [ True, False,  True,  True,  True,  True,  True, False, False,\n",
       "         True],\n",
       "       [ True, False,  True,  True, False,  True, False, False,  True,\n",
       "        False],\n",
       "       [False, False,  True,  True, False, False, False,  True, False,\n",
       "        False],\n",
       "       [False, False, False,  True, False, False, False,  True, False,\n",
       "        False],\n",
       "       [ True,  True,  True, False, False, False, False, False, False,\n",
       "         True],\n",
       "       [False, False,  True,  True,  True,  True, False, False,  True,\n",
       "        False],\n",
       "       [False,  True, False,  True,  True, False,  True, False, False,\n",
       "        False],\n",
       "       [False, False,  True, False, False, False,  True, False, False,\n",
       "         True],\n",
       "       [ True,  True, False,  True, False, False, False, False,  True,\n",
       "        False],\n",
       "       [ True, False,  True, False, False, False,  True, False, False,\n",
       "        False],\n",
       "       [ True,  True,  True, False, False,  True,  True, False,  True,\n",
       "        False],\n",
       "       [ True, False, False, False,  True, False,  True,  True,  True,\n",
       "         True],\n",
       "       [ True,  True,  True, False, False, False,  True, False, False,\n",
       "         True],\n",
       "       [False, False,  True, False,  True, False,  True,  True,  True,\n",
       "        False],\n",
       "       [ True, False, False,  True,  True, False,  True, False, False,\n",
       "         True],\n",
       "       [ True,  True, False,  True,  True, False,  True,  True,  True,\n",
       "         True],\n",
       "       [ True, False, False, False,  True, False, False,  True, False,\n",
       "        False],\n",
       "       [False,  True,  True, False,  True,  True, False, False, False,\n",
       "        False],\n",
       "       [False,  True, False,  True,  True,  True,  True,  True, False,\n",
       "        False],\n",
       "       [ True, False, False, False,  True, False, False,  True,  True,\n",
       "         True],\n",
       "       [ True,  True, False, False,  True, False, False,  True,  True,\n",
       "        False],\n",
       "       [False, False,  True,  True, False,  True,  True, False, False,\n",
       "        False],\n",
       "       [ True, False, False,  True,  True,  True,  True,  True,  True,\n",
       "         True],\n",
       "       [False,  True, False,  True,  True,  True,  True,  True,  True,\n",
       "        False],\n",
       "       [False, False, False, False, False,  True, False,  True, False,\n",
       "         True],\n",
       "       [ True, False, False, False, False,  True, False, False,  True,\n",
       "         True],\n",
       "       [False,  True, False, False,  True,  True, False,  True,  True,\n",
       "        False],\n",
       "       [ True,  True,  True, False, False, False, False, False,  True,\n",
       "        False],\n",
       "       [False, False, False,  True,  True,  True, False,  True, False,\n",
       "         True],\n",
       "       [False,  True, False, False, False,  True, False,  True,  True,\n",
       "         True],\n",
       "       [False, False,  True,  True, False,  True, False,  True,  True,\n",
       "         True],\n",
       "       [ True,  True, False, False, False, False, False, False,  True,\n",
       "        False]])"
      ]
     },
     "execution_count": 54,
     "metadata": {},
     "output_type": "execute_result"
    }
   ],
   "execution_count": 54
  },
  {
   "metadata": {
    "ExecuteTime": {
     "end_time": "2024-06-13T10:34:01.844501Z",
     "start_time": "2024-06-13T10:34:01.837910Z"
    }
   },
   "cell_type": "code",
   "source": "(filedata > 50) and (filedata < 100)",
   "id": "7ce9860fb90c6f88",
   "outputs": [
    {
     "ename": "ValueError",
     "evalue": "The truth value of an array with more than one element is ambiguous. Use a.any() or a.all()",
     "output_type": "error",
     "traceback": [
      "\u001B[0;31m---------------------------------------------------------------------------\u001B[0m",
      "\u001B[0;31mValueError\u001B[0m                                Traceback (most recent call last)",
      "Cell \u001B[0;32mIn[55], line 1\u001B[0m\n\u001B[0;32m----> 1\u001B[0m (filedata \u001B[38;5;241m>\u001B[39m \u001B[38;5;241m50\u001B[39m) \u001B[38;5;129;01mand\u001B[39;00m (filedata \u001B[38;5;241m<\u001B[39m \u001B[38;5;241m100\u001B[39m)\n",
      "\u001B[0;31mValueError\u001B[0m: The truth value of an array with more than one element is ambiguous. Use a.any() or a.all()"
     ]
    }
   ],
   "execution_count": 55
  },
  {
   "metadata": {
    "ExecuteTime": {
     "end_time": "2024-06-13T10:34:02.438312Z",
     "start_time": "2024-06-13T10:34:02.435126Z"
    }
   },
   "cell_type": "code",
   "source": "~((filedata > 50) & (filedata < 100))",
   "id": "fd4d370b899f9736",
   "outputs": [
    {
     "data": {
      "text/plain": [
       "array([[ True,  True,  True,  True,  True,  True,  True,  True,  True,\n",
       "        False],\n",
       "       [ True, False, False, False,  True, False,  True,  True, False,\n",
       "        False],\n",
       "       [ True, False, False,  True, False,  True, False, False, False,\n",
       "        False],\n",
       "       [False,  True,  True,  True, False, False, False,  True,  True,\n",
       "         True],\n",
       "       [False,  True,  True,  True,  True,  True, False,  True,  True,\n",
       "         True],\n",
       "       [False,  True,  True, False, False, False, False, False, False,\n",
       "         True],\n",
       "       [False,  True,  True,  True, False,  True, False,  True, False,\n",
       "        False],\n",
       "       [ True, False, False,  True, False, False,  True, False,  True,\n",
       "        False],\n",
       "       [ True,  True, False,  True,  True,  True, False,  True,  True,\n",
       "         True],\n",
       "       [ True,  True,  True,  True,  True, False,  True,  True, False,\n",
       "        False],\n",
       "       [ True,  True, False,  True,  True,  True,  True,  True,  True,\n",
       "        False],\n",
       "       [ True,  True, False,  True,  True,  True,  True,  True, False,\n",
       "         True],\n",
       "       [ True,  True, False,  True, False, False, False,  True,  True,\n",
       "         True],\n",
       "       [ True, False,  True,  True,  True, False, False, False, False,\n",
       "        False],\n",
       "       [ True,  True, False,  True, False,  True,  True, False, False,\n",
       "         True],\n",
       "       [False, False,  True,  True,  True,  True,  True,  True, False,\n",
       "         True],\n",
       "       [ True, False, False, False,  True, False,  True, False,  True,\n",
       "         True],\n",
       "       [False,  True,  True,  True,  True,  True,  True, False, False,\n",
       "         True],\n",
       "       [False,  True, False,  True,  True,  True, False,  True,  True,\n",
       "         True],\n",
       "       [ True,  True, False,  True,  True, False, False, False,  True,\n",
       "         True],\n",
       "       [False, False,  True,  True, False, False, False, False, False,\n",
       "         True],\n",
       "       [ True,  True, False, False, False, False,  True,  True,  True,\n",
       "        False],\n",
       "       [False,  True, False,  True,  True,  True,  True,  True,  True,\n",
       "        False],\n",
       "       [False, False,  True,  True,  True, False,  True,  True,  True,\n",
       "         True],\n",
       "       [ True,  True, False,  True,  True,  True,  True,  True, False,\n",
       "         True],\n",
       "       [False, False,  True,  True,  True, False,  True,  True, False,\n",
       "         True],\n",
       "       [False, False,  True,  True, False,  True, False, False,  True,\n",
       "         True],\n",
       "       [ True,  True, False,  True,  True, False, False,  True,  True,\n",
       "         True],\n",
       "       [ True, False,  True, False,  True, False,  True,  True,  True,\n",
       "         True],\n",
       "       [ True, False, False, False,  True,  True, False, False, False,\n",
       "        False],\n",
       "       [False, False, False, False,  True, False, False,  True,  True,\n",
       "         True],\n",
       "       [ True,  True, False,  True, False,  True,  True, False,  True,\n",
       "         True],\n",
       "       [False,  True,  True,  True,  True, False, False, False, False,\n",
       "         True],\n",
       "       [ True,  True, False,  True,  True, False, False, False,  True,\n",
       "        False],\n",
       "       [ True,  True, False, False, False, False,  True, False,  True,\n",
       "        False],\n",
       "       [ True, False,  True,  True,  True,  True, False, False,  True,\n",
       "        False],\n",
       "       [ True, False, False,  True,  True,  True, False, False,  True,\n",
       "         True],\n",
       "       [False, False, False,  True, False, False,  True,  True, False,\n",
       "         True],\n",
       "       [ True,  True, False,  True, False,  True,  True,  True,  True,\n",
       "        False],\n",
       "       [ True, False,  True,  True, False,  True, False, False, False,\n",
       "         True],\n",
       "       [False, False, False, False, False, False,  True,  True, False,\n",
       "         True],\n",
       "       [False,  True, False, False,  True,  True,  True, False, False,\n",
       "         True],\n",
       "       [ True,  True,  True,  True,  True, False, False,  True, False,\n",
       "        False],\n",
       "       [False, False,  True,  True, False, False, False,  True,  True,\n",
       "        False],\n",
       "       [ True,  True, False, False, False, False, False,  True,  True,\n",
       "        False],\n",
       "       [ True,  True,  True, False,  True,  True,  True,  True,  True,\n",
       "        False],\n",
       "       [ True,  True,  True,  True, False, False, False,  True,  True,\n",
       "        False],\n",
       "       [False, False, False, False,  True, False,  True,  True,  True,\n",
       "         True],\n",
       "       [False,  True, False, False,  True, False, False,  True,  True,\n",
       "        False],\n",
       "       [ True,  True,  True, False,  True,  True,  True,  True,  True,\n",
       "         True],\n",
       "       [ True,  True, False, False, False, False, False,  True,  True,\n",
       "        False],\n",
       "       [False,  True,  True, False, False, False, False, False,  True,\n",
       "         True],\n",
       "       [ True, False, False,  True, False, False,  True,  True, False,\n",
       "        False],\n",
       "       [ True, False, False,  True,  True, False, False,  True, False,\n",
       "        False],\n",
       "       [ True, False,  True, False, False, False,  True, False,  True,\n",
       "        False],\n",
       "       [False, False,  True, False,  True, False,  True,  True,  True,\n",
       "         True],\n",
       "       [False,  True,  True,  True, False, False,  True,  True, False,\n",
       "        False],\n",
       "       [False, False, False,  True, False,  True,  True,  True, False,\n",
       "         True],\n",
       "       [False,  True, False, False, False,  True, False, False, False,\n",
       "         True],\n",
       "       [False, False,  True,  True,  True, False, False, False,  True,\n",
       "        False],\n",
       "       [False,  True,  True,  True, False, False, False,  True,  True,\n",
       "         True],\n",
       "       [False,  True, False,  True,  True,  True,  True,  True, False,\n",
       "        False],\n",
       "       [False,  True, False, False,  True, False,  True,  True,  True,\n",
       "        False],\n",
       "       [False, False,  True,  True,  True, False,  True,  True, False,\n",
       "         True],\n",
       "       [False,  True, False, False,  True,  True, False, False, False,\n",
       "         True],\n",
       "       [ True,  True, False,  True,  True,  True, False, False, False,\n",
       "         True],\n",
       "       [False, False, False,  True, False,  True,  True,  True,  True,\n",
       "         True],\n",
       "       [False, False,  True, False, False,  True, False, False, False,\n",
       "         True],\n",
       "       [False,  True, False, False, False, False, False,  True,  True,\n",
       "        False],\n",
       "       [False,  True, False, False,  True, False,  True,  True, False,\n",
       "         True],\n",
       "       [ True,  True, False, False,  True,  True,  True, False,  True,\n",
       "         True],\n",
       "       [ True,  True,  True, False,  True,  True,  True, False,  True,\n",
       "         True],\n",
       "       [False, False, False,  True,  True,  True,  True,  True,  True,\n",
       "        False],\n",
       "       [ True,  True, False, False, False, False,  True,  True, False,\n",
       "         True],\n",
       "       [ True, False,  True, False, False,  True, False,  True,  True,\n",
       "         True],\n",
       "       [ True,  True, False,  True,  True,  True, False,  True,  True,\n",
       "        False],\n",
       "       [False, False,  True, False,  True,  True,  True,  True, False,\n",
       "         True],\n",
       "       [False,  True, False,  True,  True,  True, False,  True,  True,\n",
       "         True],\n",
       "       [False, False, False,  True,  True, False, False,  True, False,\n",
       "         True],\n",
       "       [False,  True,  True,  True, False,  True, False, False, False,\n",
       "        False],\n",
       "       [False, False, False,  True,  True,  True, False,  True,  True,\n",
       "        False],\n",
       "       [ True,  True, False,  True, False,  True, False, False, False,\n",
       "         True],\n",
       "       [False,  True,  True, False, False,  True, False,  True,  True,\n",
       "        False],\n",
       "       [False, False,  True, False, False,  True, False, False, False,\n",
       "        False],\n",
       "       [False,  True,  True,  True, False,  True,  True, False,  True,\n",
       "         True],\n",
       "       [ True, False, False,  True, False, False,  True,  True,  True,\n",
       "         True],\n",
       "       [ True, False,  True, False, False, False, False, False,  True,\n",
       "         True],\n",
       "       [False,  True,  True,  True, False,  True,  True, False, False,\n",
       "        False],\n",
       "       [False, False,  True,  True, False,  True,  True, False, False,\n",
       "         True],\n",
       "       [ True,  True, False, False,  True, False, False,  True,  True,\n",
       "         True],\n",
       "       [False,  True,  True, False, False, False, False, False, False,\n",
       "        False],\n",
       "       [ True, False,  True, False, False, False, False, False, False,\n",
       "         True],\n",
       "       [ True,  True,  True,  True,  True, False,  True, False,  True,\n",
       "        False],\n",
       "       [False,  True,  True,  True,  True, False,  True,  True, False,\n",
       "        False],\n",
       "       [ True, False,  True,  True, False, False,  True, False, False,\n",
       "         True],\n",
       "       [False, False, False,  True,  True,  True,  True,  True, False,\n",
       "         True],\n",
       "       [ True,  True,  True, False, False, False,  True, False,  True,\n",
       "        False],\n",
       "       [ True, False,  True,  True,  True, False,  True, False, False,\n",
       "        False],\n",
       "       [ True,  True, False, False,  True, False,  True, False, False,\n",
       "        False],\n",
       "       [False, False,  True,  True,  True,  True,  True,  True, False,\n",
       "         True]])"
      ]
     },
     "execution_count": 56,
     "metadata": {},
     "output_type": "execute_result"
    }
   ],
   "execution_count": 56
  },
  {
   "metadata": {},
   "cell_type": "markdown",
   "source": [
    "### Advanced Indexing\n",
    "We can give the index input of a `np.array` another array, or a same `ndim` array with `bool` values"
   ],
   "id": "42698d151902235a"
  },
  {
   "metadata": {
    "ExecuteTime": {
     "end_time": "2024-06-13T10:34:04.045101Z",
     "start_time": "2024-06-13T10:34:04.041280Z"
    }
   },
   "cell_type": "code",
   "source": [
    "# Boolean Indexing\n",
    "filedata[filedata > 50]"
   ],
   "id": "f765c637122f6a9b",
   "outputs": [
    {
     "data": {
      "text/plain": [
       "array([74, 55, 93, 77, 56, 86, 55, 89, 73, 96, 54, 72, 89, 99, 83, 97, 90,\n",
       "       64, 58, 70, 97, 70, 51, 76, 55, 90, 97, 62, 81, 56, 81, 98, 87, 97,\n",
       "       54, 86, 84, 94, 62, 66, 64, 67, 81, 93, 72, 90, 92, 58, 60, 81, 99,\n",
       "       67, 86, 78, 93, 61, 98, 85, 54, 85, 87, 78, 75, 64, 60, 88, 93, 74,\n",
       "       53, 64, 84, 79, 79, 73, 68, 83, 65, 94, 63, 62, 51, 86, 73, 98, 74,\n",
       "       94, 88, 64, 54, 55, 57, 56, 58, 62, 56, 74, 89, 51, 52, 76, 72, 68,\n",
       "       94, 58, 74, 71, 87, 80, 60, 56, 63, 84, 60, 82, 68, 93, 65, 62, 75,\n",
       "       86, 54, 68, 81, 65, 88, 94, 75, 57, 72, 82, 75, 53, 72, 69, 73, 79,\n",
       "       98, 84, 63, 80, 73, 92, 66, 71, 51, 64, 98, 94, 82, 60, 60, 53, 90,\n",
       "       97, 65, 77, 56, 54, 51, 84, 74, 76, 60, 97, 71, 74, 81, 53, 91, 51,\n",
       "       85, 86, 99, 95, 97, 65, 86, 70, 73, 64, 97, 79, 67, 78, 99, 82, 63,\n",
       "       88, 52, 78, 52, 74, 51, 84, 55, 62, 57, 56, 91, 93, 56, 85, 83, 80,\n",
       "       79, 90, 56, 72, 59, 66, 75, 70, 55, 79, 80, 67, 52, 73, 59, 97, 51,\n",
       "       63, 92, 61, 55, 88, 68, 92, 98, 98, 75, 93, 58, 75, 80, 79, 78, 87,\n",
       "       92, 78, 62, 59, 86, 66, 61, 70, 73, 68, 98, 76, 93, 99, 88, 83, 54,\n",
       "       89, 98, 60, 92, 96, 63, 95, 57, 68, 66, 65, 88, 77, 64, 55, 80, 75,\n",
       "       75, 65, 80, 54, 72, 90, 52, 92, 97, 89, 61, 97, 87, 93, 93, 59, 77,\n",
       "       60, 55, 67, 98, 89, 75, 97, 51, 77, 86, 56, 52, 91, 62, 52, 80, 61,\n",
       "       77, 85, 64, 55, 66, 67, 58, 94, 88, 81, 93, 75, 66, 64, 98, 77, 99,\n",
       "       76, 99, 63, 61, 62, 86, 82, 60, 55, 78, 95, 54, 88, 94, 71, 98, 69,\n",
       "       95, 81, 94, 53, 72, 61, 95, 96, 58, 95, 75, 73, 96, 60, 53, 65, 58,\n",
       "       88, 99, 57, 93, 62, 92, 73, 83, 87, 52, 59, 77, 84, 73, 96, 51, 76,\n",
       "       83, 92, 66, 74, 66, 93, 88, 81, 80, 55, 69, 93, 72, 80, 51, 89, 67,\n",
       "       90, 91, 83, 64, 83, 55, 59, 59, 78, 71, 60, 75, 69, 93, 70, 57, 59,\n",
       "       87, 70, 84, 90, 91, 89, 96, 88, 99, 65, 73, 65, 51, 82, 63, 91, 99,\n",
       "       91, 96, 71, 74, 96, 56, 70, 91, 76, 99, 71, 57, 96, 54, 72, 74, 77,\n",
       "       72, 75, 87, 78, 75, 99, 81, 68, 59, 60, 59, 71, 69, 84, 58, 99, 65,\n",
       "       98, 76], dtype=int32)"
      ]
     },
     "execution_count": 57,
     "metadata": {},
     "output_type": "execute_result"
    }
   ],
   "execution_count": 57
  },
  {
   "metadata": {},
   "cell_type": "markdown",
   "source": "Indexing with the help of arrays:",
   "id": "6a5f8f092aab064a"
  },
  {
   "metadata": {
    "ExecuteTime": {
     "end_time": "2024-06-13T10:34:05.127562Z",
     "start_time": "2024-06-13T10:34:05.125222Z"
    }
   },
   "cell_type": "code",
   "source": [
    "Array = np.array(range(1, 26)).reshape((5, 5))\n",
    "Array"
   ],
   "id": "ece5df014481de64",
   "outputs": [
    {
     "data": {
      "text/plain": [
       "array([[ 1,  2,  3,  4,  5],\n",
       "       [ 6,  7,  8,  9, 10],\n",
       "       [11, 12, 13, 14, 15],\n",
       "       [16, 17, 18, 19, 20],\n",
       "       [21, 22, 23, 24, 25]])"
      ]
     },
     "execution_count": 58,
     "metadata": {},
     "output_type": "execute_result"
    }
   ],
   "execution_count": 58
  },
  {
   "metadata": {
    "ExecuteTime": {
     "end_time": "2024-06-13T10:34:05.560299Z",
     "start_time": "2024-06-13T10:34:05.557914Z"
    }
   },
   "cell_type": "code",
   "source": "Array[2:4, 0:2]",
   "id": "ec859f0b8c1b317e",
   "outputs": [
    {
     "data": {
      "text/plain": [
       "array([[11, 12],\n",
       "       [16, 17]])"
      ]
     },
     "execution_count": 59,
     "metadata": {},
     "output_type": "execute_result"
    }
   ],
   "execution_count": 59
  },
  {
   "metadata": {
    "ExecuteTime": {
     "end_time": "2024-06-13T10:34:06.333519Z",
     "start_time": "2024-06-13T10:34:06.331185Z"
    }
   },
   "cell_type": "code",
   "source": "Array[[0, 1, 2, 3], [1, 2, 3, 4]]",
   "id": "10448b6924801628",
   "outputs": [
    {
     "data": {
      "text/plain": [
       "array([ 2,  8, 14, 20])"
      ]
     },
     "execution_count": 60,
     "metadata": {},
     "output_type": "execute_result"
    }
   ],
   "execution_count": 60
  },
  {
   "metadata": {
    "ExecuteTime": {
     "end_time": "2024-06-13T10:34:06.904174Z",
     "start_time": "2024-06-13T10:34:06.902119Z"
    }
   },
   "cell_type": "code",
   "source": "Array[[0, 3, 4], 3:]",
   "id": "411faf3816e16c91",
   "outputs": [
    {
     "data": {
      "text/plain": [
       "array([[ 4,  5],\n",
       "       [19, 20],\n",
       "       [24, 25]])"
      ]
     },
     "execution_count": 61,
     "metadata": {},
     "output_type": "execute_result"
    }
   ],
   "execution_count": 61
  },
  {
   "metadata": {},
   "cell_type": "markdown",
   "source": "for more references on Indexing, checkout this [website](https://docs.scipy.org/doc/numpy-1.13.0/user/basics.indexing.html).",
   "id": "ddb405af821655cc"
  }
 ],
 "metadata": {
  "kernelspec": {
   "display_name": "Python 3",
   "language": "python",
   "name": "python3"
  },
  "language_info": {
   "codemirror_mode": {
    "name": "ipython",
    "version": 2
   },
   "file_extension": ".py",
   "mimetype": "text/x-python",
   "name": "python",
   "nbconvert_exporter": "python",
   "pygments_lexer": "ipython2",
   "version": "2.7.6"
  }
 },
 "nbformat": 4,
 "nbformat_minor": 5
}
