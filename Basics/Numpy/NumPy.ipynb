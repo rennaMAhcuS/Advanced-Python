{
 "cells": [
  {
   "metadata": {
    "ExecuteTime": {
     "end_time": "2024-06-06T09:36:02.297831Z",
     "start_time": "2024-06-06T09:36:02.155173Z"
    }
   },
   "cell_type": "code",
   "source": "import numpy as np",
   "id": "b63955477b7877c1",
   "outputs": [],
   "execution_count": 1
  },
  {
   "metadata": {},
   "cell_type": "markdown",
   "source": "# The Basics",
   "id": "8d86967b745616e4"
  },
  {
   "metadata": {
    "ExecuteTime": {
     "end_time": "2024-06-06T09:36:02.305715Z",
     "start_time": "2024-06-06T09:36:02.300020Z"
    }
   },
   "cell_type": "code",
   "source": [
    "a = np.array([1, 2, 3])\n",
    "a"
   ],
   "id": "77753f09bed14916",
   "outputs": [
    {
     "data": {
      "text/plain": [
       "array([1, 2, 3])"
      ]
     },
     "execution_count": 2,
     "metadata": {},
     "output_type": "execute_result"
    }
   ],
   "execution_count": 2
  },
  {
   "metadata": {
    "ExecuteTime": {
     "end_time": "2024-06-06T09:36:02.311571Z",
     "start_time": "2024-06-06T09:36:02.307241Z"
    }
   },
   "cell_type": "code",
   "source": [
    "b = np.array(([6.0, 5.0, 4.0], [3.0, 2.0, 1.0]))\n",
    "b"
   ],
   "id": "3f4ade89a42e1698",
   "outputs": [
    {
     "data": {
      "text/plain": [
       "array([[6., 5., 4.],\n",
       "       [3., 2., 1.]])"
      ]
     },
     "execution_count": 3,
     "metadata": {},
     "output_type": "execute_result"
    }
   ],
   "execution_count": 3
  },
  {
   "metadata": {
    "ExecuteTime": {
     "end_time": "2024-06-06T09:36:02.318598Z",
     "start_time": "2024-06-06T09:36:02.315028Z"
    }
   },
   "cell_type": "code",
   "source": [
    "# Get Dimension\n",
    "a.ndim"
   ],
   "id": "7b2b9232c3e834e8",
   "outputs": [
    {
     "data": {
      "text/plain": [
       "1"
      ]
     },
     "execution_count": 4,
     "metadata": {},
     "output_type": "execute_result"
    }
   ],
   "execution_count": 4
  },
  {
   "metadata": {
    "ExecuteTime": {
     "end_time": "2024-06-06T09:36:02.324096Z",
     "start_time": "2024-06-06T09:36:02.320325Z"
    }
   },
   "cell_type": "code",
   "source": [
    "# Get Shape\n",
    "b.shape"
   ],
   "id": "1c7c9ed76e5b02d3",
   "outputs": [
    {
     "data": {
      "text/plain": [
       "(2, 3)"
      ]
     },
     "execution_count": 5,
     "metadata": {},
     "output_type": "execute_result"
    }
   ],
   "execution_count": 5
  },
  {
   "metadata": {
    "ExecuteTime": {
     "end_time": "2024-06-06T09:36:02.328898Z",
     "start_time": "2024-06-06T09:36:02.325355Z"
    }
   },
   "cell_type": "code",
   "source": [
    "# Get Type\n",
    "a.dtype"
   ],
   "id": "d1e94daf05f8809c",
   "outputs": [
    {
     "data": {
      "text/plain": [
       "dtype('int64')"
      ]
     },
     "execution_count": 6,
     "metadata": {},
     "output_type": "execute_result"
    }
   ],
   "execution_count": 6
  },
  {
   "metadata": {
    "ExecuteTime": {
     "end_time": "2024-06-06T09:36:02.337324Z",
     "start_time": "2024-06-06T09:36:02.332974Z"
    }
   },
   "cell_type": "code",
   "source": [
    "# Get the Size of the datatype in the ndarray\n",
    "a.itemsize"
   ],
   "id": "9ce3393366f679ac",
   "outputs": [
    {
     "data": {
      "text/plain": [
       "8"
      ]
     },
     "execution_count": 7,
     "metadata": {},
     "output_type": "execute_result"
    }
   ],
   "execution_count": 7
  },
  {
   "metadata": {
    "ExecuteTime": {
     "end_time": "2024-06-06T09:36:02.345213Z",
     "start_time": "2024-06-06T09:36:02.339241Z"
    }
   },
   "cell_type": "code",
   "source": [
    "# Get the number of items (product of all the numbers in shape) in an array\n",
    "b.size"
   ],
   "id": "233413412b69c237",
   "outputs": [
    {
     "data": {
      "text/plain": [
       "6"
      ]
     },
     "execution_count": 8,
     "metadata": {},
     "output_type": "execute_result"
    }
   ],
   "execution_count": 8
  },
  {
   "metadata": {
    "ExecuteTime": {
     "end_time": "2024-06-06T09:36:02.350396Z",
     "start_time": "2024-06-06T09:36:02.347437Z"
    }
   },
   "cell_type": "code",
   "source": [
    "# Specifying datatypes:\n",
    "c = np.array([1, 2, 3], dtype='int32')\n",
    "c"
   ],
   "id": "1b0b03e87a0831b5",
   "outputs": [
    {
     "data": {
      "text/plain": [
       "array([1, 2, 3], dtype=int32)"
      ]
     },
     "execution_count": 9,
     "metadata": {},
     "output_type": "execute_result"
    }
   ],
   "execution_count": 9
  },
  {
   "metadata": {},
   "cell_type": "markdown",
   "source": "## Accessing/Changing specific elements, rows, columns, etc.",
   "id": "8e6ef968e6d9b9d2"
  },
  {
   "metadata": {
    "ExecuteTime": {
     "end_time": "2024-06-06T09:36:02.368131Z",
     "start_time": "2024-06-06T09:36:02.364580Z"
    }
   },
   "cell_type": "code",
   "source": [
    "alpha = np.array([[1, 2, 3, 4, 6], [1, 4, 8, 6, 3]])\n",
    "alpha"
   ],
   "id": "e87d78967bcee203",
   "outputs": [
    {
     "data": {
      "text/plain": [
       "array([[1, 2, 3, 4, 6],\n",
       "       [1, 4, 8, 6, 3]])"
      ]
     },
     "execution_count": 10,
     "metadata": {},
     "output_type": "execute_result"
    }
   ],
   "execution_count": 10
  },
  {
   "metadata": {
    "ExecuteTime": {
     "end_time": "2024-06-06T09:36:02.381543Z",
     "start_time": "2024-06-06T09:36:02.369487Z"
    }
   },
   "cell_type": "code",
   "source": [
    "# Getting mth row and nth column's element = array[m - 1, n - 1]. We can also use the negative indices as used in lists...\n",
    "alpha[1, 3]"
   ],
   "id": "e61d003071b747c",
   "outputs": [
    {
     "data": {
      "text/plain": [
       "6"
      ]
     },
     "execution_count": 11,
     "metadata": {},
     "output_type": "execute_result"
    }
   ],
   "execution_count": 11
  },
  {
   "metadata": {
    "ExecuteTime": {
     "end_time": "2024-06-06T09:36:02.387748Z",
     "start_time": "2024-06-06T09:36:02.383085Z"
    }
   },
   "cell_type": "code",
   "source": [
    "beta = np.around(np.random.random((10, 10)), decimals=2)\n",
    "beta"
   ],
   "id": "8df58c300a2b6c37",
   "outputs": [
    {
     "data": {
      "text/plain": [
       "array([[0.94, 0.74, 0.44, 0.11, 0.18, 0.2 , 0.91, 0.42, 0.56, 0.43],\n",
       "       [0.69, 0.78, 0.01, 0.25, 0.92, 0.57, 0.88, 0.78, 0.43, 0.09],\n",
       "       [0.74, 0.37, 0.89, 0.3 , 0.78, 0.62, 0.81, 0.22, 0.85, 0.57],\n",
       "       [0.14, 0.89, 0.06, 0.24, 0.86, 0.11, 0.72, 0.01, 0.87, 0.7 ],\n",
       "       [0.84, 0.48, 0.25, 0.38, 0.11, 0.33, 0.31, 0.07, 0.87, 0.39],\n",
       "       [0.96, 0.39, 0.49, 0.93, 0.49, 0.34, 0.28, 0.42, 0.62, 1.  ],\n",
       "       [0.34, 0.36, 0.97, 0.3 , 0.76, 0.01, 0.02, 0.09, 0.12, 0.  ],\n",
       "       [0.21, 0.67, 0.92, 0.73, 0.5 , 0.91, 0.82, 0.24, 0.25, 0.88],\n",
       "       [0.78, 0.54, 0.21, 0.42, 0.48, 0.43, 0.23, 0.44, 0.16, 0.42],\n",
       "       [0.97, 0.76, 0.45, 0.42, 0.88, 0.48, 0.93, 0.94, 0.96, 0.38]])"
      ]
     },
     "execution_count": 12,
     "metadata": {},
     "output_type": "execute_result"
    }
   ],
   "execution_count": 12
  },
  {
   "metadata": {
    "ExecuteTime": {
     "end_time": "2024-06-06T09:36:02.394380Z",
     "start_time": "2024-06-06T09:36:02.389351Z"
    }
   },
   "cell_type": "code",
   "source": [
    "# Splicing works perfectly. See these examples:\n",
    "print(\"=== Without step ===\")\n",
    "print(beta[3:7, 2:5])\n",
    "print(\"=== With step ===\")\n",
    "print(beta[1:8:3, 2:9:2])"
   ],
   "id": "5d3d086662726f1",
   "outputs": [
    {
     "name": "stdout",
     "output_type": "stream",
     "text": [
      "=== Without step ===\n",
      "[[0.06 0.24 0.86]\n",
      " [0.25 0.38 0.11]\n",
      " [0.49 0.93 0.49]\n",
      " [0.97 0.3  0.76]]\n",
      "=== With step ===\n",
      "[[0.01 0.92 0.88 0.43]\n",
      " [0.25 0.11 0.31 0.87]\n",
      " [0.92 0.5  0.82 0.25]]\n"
     ]
    }
   ],
   "execution_count": 13
  },
  {
   "metadata": {
    "ExecuteTime": {
     "end_time": "2024-06-06T09:36:02.399531Z",
     "start_time": "2024-06-06T09:36:02.395796Z"
    }
   },
   "cell_type": "code",
   "source": [
    "# NumPy Arrays are mutable.\n",
    "beta[3, 6] = 1000\n",
    "beta"
   ],
   "id": "a91b84e699ae97e1",
   "outputs": [
    {
     "data": {
      "text/plain": [
       "array([[9.4e-01, 7.4e-01, 4.4e-01, 1.1e-01, 1.8e-01, 2.0e-01, 9.1e-01,\n",
       "        4.2e-01, 5.6e-01, 4.3e-01],\n",
       "       [6.9e-01, 7.8e-01, 1.0e-02, 2.5e-01, 9.2e-01, 5.7e-01, 8.8e-01,\n",
       "        7.8e-01, 4.3e-01, 9.0e-02],\n",
       "       [7.4e-01, 3.7e-01, 8.9e-01, 3.0e-01, 7.8e-01, 6.2e-01, 8.1e-01,\n",
       "        2.2e-01, 8.5e-01, 5.7e-01],\n",
       "       [1.4e-01, 8.9e-01, 6.0e-02, 2.4e-01, 8.6e-01, 1.1e-01, 1.0e+03,\n",
       "        1.0e-02, 8.7e-01, 7.0e-01],\n",
       "       [8.4e-01, 4.8e-01, 2.5e-01, 3.8e-01, 1.1e-01, 3.3e-01, 3.1e-01,\n",
       "        7.0e-02, 8.7e-01, 3.9e-01],\n",
       "       [9.6e-01, 3.9e-01, 4.9e-01, 9.3e-01, 4.9e-01, 3.4e-01, 2.8e-01,\n",
       "        4.2e-01, 6.2e-01, 1.0e+00],\n",
       "       [3.4e-01, 3.6e-01, 9.7e-01, 3.0e-01, 7.6e-01, 1.0e-02, 2.0e-02,\n",
       "        9.0e-02, 1.2e-01, 0.0e+00],\n",
       "       [2.1e-01, 6.7e-01, 9.2e-01, 7.3e-01, 5.0e-01, 9.1e-01, 8.2e-01,\n",
       "        2.4e-01, 2.5e-01, 8.8e-01],\n",
       "       [7.8e-01, 5.4e-01, 2.1e-01, 4.2e-01, 4.8e-01, 4.3e-01, 2.3e-01,\n",
       "        4.4e-01, 1.6e-01, 4.2e-01],\n",
       "       [9.7e-01, 7.6e-01, 4.5e-01, 4.2e-01, 8.8e-01, 4.8e-01, 9.3e-01,\n",
       "        9.4e-01, 9.6e-01, 3.8e-01]])"
      ]
     },
     "execution_count": 14,
     "metadata": {},
     "output_type": "execute_result"
    }
   ],
   "execution_count": 14
  },
  {
   "metadata": {
    "ExecuteTime": {
     "end_time": "2024-06-06T09:36:02.413733Z",
     "start_time": "2024-06-06T09:36:02.400922Z"
    }
   },
   "cell_type": "code",
   "source": [
    "# We can also input the change through the spliced arrays also which will reflect in the main array.\n",
    "beta[1:8:3, 2:9:2] = [[-1, -1, -1, -1], [-1, -1, -1, -1], [-1, -1, -1, -1]]  # or np.full((3, 4), -1)\n",
    "beta"
   ],
   "id": "8d51ea3e6fdb453",
   "outputs": [
    {
     "data": {
      "text/plain": [
       "array([[ 9.4e-01,  7.4e-01,  4.4e-01,  1.1e-01,  1.8e-01,  2.0e-01,\n",
       "         9.1e-01,  4.2e-01,  5.6e-01,  4.3e-01],\n",
       "       [ 6.9e-01,  7.8e-01, -1.0e+00,  2.5e-01, -1.0e+00,  5.7e-01,\n",
       "        -1.0e+00,  7.8e-01, -1.0e+00,  9.0e-02],\n",
       "       [ 7.4e-01,  3.7e-01,  8.9e-01,  3.0e-01,  7.8e-01,  6.2e-01,\n",
       "         8.1e-01,  2.2e-01,  8.5e-01,  5.7e-01],\n",
       "       [ 1.4e-01,  8.9e-01,  6.0e-02,  2.4e-01,  8.6e-01,  1.1e-01,\n",
       "         1.0e+03,  1.0e-02,  8.7e-01,  7.0e-01],\n",
       "       [ 8.4e-01,  4.8e-01, -1.0e+00,  3.8e-01, -1.0e+00,  3.3e-01,\n",
       "        -1.0e+00,  7.0e-02, -1.0e+00,  3.9e-01],\n",
       "       [ 9.6e-01,  3.9e-01,  4.9e-01,  9.3e-01,  4.9e-01,  3.4e-01,\n",
       "         2.8e-01,  4.2e-01,  6.2e-01,  1.0e+00],\n",
       "       [ 3.4e-01,  3.6e-01,  9.7e-01,  3.0e-01,  7.6e-01,  1.0e-02,\n",
       "         2.0e-02,  9.0e-02,  1.2e-01,  0.0e+00],\n",
       "       [ 2.1e-01,  6.7e-01, -1.0e+00,  7.3e-01, -1.0e+00,  9.1e-01,\n",
       "        -1.0e+00,  2.4e-01, -1.0e+00,  8.8e-01],\n",
       "       [ 7.8e-01,  5.4e-01,  2.1e-01,  4.2e-01,  4.8e-01,  4.3e-01,\n",
       "         2.3e-01,  4.4e-01,  1.6e-01,  4.2e-01],\n",
       "       [ 9.7e-01,  7.6e-01,  4.5e-01,  4.2e-01,  8.8e-01,  4.8e-01,\n",
       "         9.3e-01,  9.4e-01,  9.6e-01,  3.8e-01]])"
      ]
     },
     "execution_count": 15,
     "metadata": {},
     "output_type": "execute_result"
    }
   ],
   "execution_count": 15
  },
  {
   "metadata": {},
   "cell_type": "markdown",
   "source": "## Initializing Different Types of Arrays",
   "id": "df87d54b1883c17c"
  },
  {
   "metadata": {
    "ExecuteTime": {
     "end_time": "2024-06-06T09:36:02.434924Z",
     "start_time": "2024-06-06T09:36:02.415121Z"
    }
   },
   "cell_type": "code",
   "source": [
    "# All zeroes matrix\n",
    "null = np.zeros((3, 4))\n",
    "null"
   ],
   "id": "bcc775a8ca4358f9",
   "outputs": [
    {
     "data": {
      "text/plain": [
       "array([[0., 0., 0., 0.],\n",
       "       [0., 0., 0., 0.],\n",
       "       [0., 0., 0., 0.]])"
      ]
     },
     "execution_count": 16,
     "metadata": {},
     "output_type": "execute_result"
    }
   ],
   "execution_count": 16
  },
  {
   "metadata": {
    "ExecuteTime": {
     "end_time": "2024-06-06T09:36:02.438343Z",
     "start_time": "2024-06-06T09:36:02.435735Z"
    }
   },
   "cell_type": "code",
   "source": [
    "# All 'ones' matrix\n",
    "ones = np.ones((4, 3, 2), dtype='int32')\n",
    "ones"
   ],
   "id": "7f55e784e70572e4",
   "outputs": [
    {
     "data": {
      "text/plain": [
       "array([[[1, 1],\n",
       "        [1, 1],\n",
       "        [1, 1]],\n",
       "\n",
       "       [[1, 1],\n",
       "        [1, 1],\n",
       "        [1, 1]],\n",
       "\n",
       "       [[1, 1],\n",
       "        [1, 1],\n",
       "        [1, 1]],\n",
       "\n",
       "       [[1, 1],\n",
       "        [1, 1],\n",
       "        [1, 1]]], dtype=int32)"
      ]
     },
     "execution_count": 17,
     "metadata": {},
     "output_type": "execute_result"
    }
   ],
   "execution_count": 17
  },
  {
   "metadata": {
    "ExecuteTime": {
     "end_time": "2024-06-06T09:36:02.440982Z",
     "start_time": "2024-06-06T09:36:02.438774Z"
    }
   },
   "cell_type": "code",
   "source": [
    "# Any other number\n",
    "full = np.full((3, 2), 99)\n",
    "full"
   ],
   "id": "897094ace23f747f",
   "outputs": [
    {
     "data": {
      "text/plain": [
       "array([[99, 99],\n",
       "       [99, 99],\n",
       "       [99, 99]])"
      ]
     },
     "execution_count": 18,
     "metadata": {},
     "output_type": "execute_result"
    }
   ],
   "execution_count": 18
  },
  {
   "metadata": {
    "ExecuteTime": {
     "end_time": "2024-06-06T09:36:02.443824Z",
     "start_time": "2024-06-06T09:36:02.441384Z"
    }
   },
   "cell_type": "code",
   "source": [
    "# To take the dimensions of a matrix and fill it with a number: (Note: The first argument is an array, not its dimensions.)\n",
    "full_like = np.full_like(b, 6)\n",
    "full_like"
   ],
   "id": "10aa43c2c443a275",
   "outputs": [
    {
     "data": {
      "text/plain": [
       "array([[6., 6., 6.],\n",
       "       [6., 6., 6.]])"
      ]
     },
     "execution_count": 19,
     "metadata": {},
     "output_type": "execute_result"
    }
   ],
   "execution_count": 19
  },
  {
   "metadata": {
    "ExecuteTime": {
     "end_time": "2024-06-06T09:36:02.447474Z",
     "start_time": "2024-06-06T09:36:02.444827Z"
    }
   },
   "cell_type": "code",
   "source": [
    "# Identity Matrix\n",
    "np.identity(4)"
   ],
   "id": "212bfe3f916e1e73",
   "outputs": [
    {
     "data": {
      "text/plain": [
       "array([[1., 0., 0., 0.],\n",
       "       [0., 1., 0., 0.],\n",
       "       [0., 0., 1., 0.],\n",
       "       [0., 0., 0., 1.]])"
      ]
     },
     "execution_count": 20,
     "metadata": {},
     "output_type": "execute_result"
    }
   ],
   "execution_count": 20
  },
  {
   "metadata": {
    "ExecuteTime": {
     "end_time": "2024-06-06T09:36:02.450920Z",
     "start_time": "2024-06-06T09:36:02.448732Z"
    }
   },
   "cell_type": "code",
   "source": [
    "# Repeat an array (Kind of...)\n",
    "arr_to_rep = np.array([[1, 2, 3]])\n",
    "rep_array = np.repeat(arr_to_rep, 5, axis=0)\n",
    "rep_array"
   ],
   "id": "108469014eee33c7",
   "outputs": [
    {
     "data": {
      "text/plain": [
       "array([[1, 2, 3],\n",
       "       [1, 2, 3],\n",
       "       [1, 2, 3],\n",
       "       [1, 2, 3],\n",
       "       [1, 2, 3]])"
      ]
     },
     "execution_count": 21,
     "metadata": {},
     "output_type": "execute_result"
    }
   ],
   "execution_count": 21
  },
  {
   "metadata": {},
   "cell_type": "markdown",
   "source": "### Random Arrays",
   "id": "ff5c2146e77dddca"
  },
  {
   "metadata": {
    "ExecuteTime": {
     "end_time": "2024-06-06T09:36:02.453753Z",
     "start_time": "2024-06-06T09:36:02.451458Z"
    }
   },
   "cell_type": "code",
   "source": [
    "# Type 1: Argument is the dimension Iterable\n",
    "np.random.random_sample((4, 2))"
   ],
   "id": "47d0d6b8d320aab",
   "outputs": [
    {
     "data": {
      "text/plain": [
       "array([[0.86608154, 0.22246123],\n",
       "       [0.21671812, 0.75628946],\n",
       "       [0.13429037, 0.73114568],\n",
       "       [0.82560863, 0.43362054]])"
      ]
     },
     "execution_count": 22,
     "metadata": {},
     "output_type": "execute_result"
    }
   ],
   "execution_count": 22
  },
  {
   "metadata": {
    "ExecuteTime": {
     "end_time": "2024-06-06T09:36:02.456731Z",
     "start_time": "2024-06-06T09:36:02.454371Z"
    }
   },
   "cell_type": "code",
   "source": [
    "# Type 2: Unpacked Arguments\n",
    "np.random.rand(4, 2)"
   ],
   "id": "3e4b686b74b5d68b",
   "outputs": [
    {
     "data": {
      "text/plain": [
       "array([[0.22005944, 0.18654279],\n",
       "       [0.06498921, 0.25194607],\n",
       "       [0.284606  , 0.70902958],\n",
       "       [0.59103144, 0.35461195]])"
      ]
     },
     "execution_count": 23,
     "metadata": {},
     "output_type": "execute_result"
    }
   ],
   "execution_count": 23
  },
  {
   "metadata": {
    "ExecuteTime": {
     "end_time": "2024-06-06T09:36:02.459425Z",
     "start_time": "2024-06-06T09:36:02.457316Z"
    }
   },
   "cell_type": "code",
   "source": [
    "# Random Integer Values\n",
    "np.random.randint(7, size=(3, 3))  # The 7 here is the higher limit. If we aren't passing both the low and high arguments, it is considered as high, and it should be > 0."
   ],
   "id": "e000c12d2c5a34d8",
   "outputs": [
    {
     "data": {
      "text/plain": [
       "array([[1, 1, 2],\n",
       "       [6, 3, 3],\n",
       "       [2, 2, 6]])"
      ]
     },
     "execution_count": 24,
     "metadata": {},
     "output_type": "execute_result"
    }
   ],
   "execution_count": 24
  },
  {
   "metadata": {},
   "cell_type": "markdown",
   "source": [
    "### Exercise:\n",
    "Try to get this array without manually typing:<br>\n",
    "[[1, 1, 1, 1, 1],<br>\n",
    " [1, 0, 0, 0, 1],<br>\n",
    " [1, 0, 9, 0, 1],<br>\n",
    " [1, 0, 0, 0, 1],<br>\n",
    " [1, 1, 1, 1, 1]]"
   ],
   "id": "611f4f9caaaf829f"
  },
  {
   "metadata": {},
   "cell_type": "markdown",
   "source": "",
   "id": "299b80f7ccec1504"
  },
  {
   "metadata": {
    "ExecuteTime": {
     "end_time": "2024-06-06T09:36:02.462312Z",
     "start_time": "2024-06-06T09:36:02.459893Z"
    }
   },
   "cell_type": "code",
   "source": [
    "exercise = np.ones((5, 5))\n",
    "exercise[1:-1, 1:-1] = np.zeros((3, 3))\n",
    "exercise[2, 2] = 9\n",
    "exercise"
   ],
   "id": "53d122b3acc785e8",
   "outputs": [
    {
     "data": {
      "text/plain": [
       "array([[1., 1., 1., 1., 1.],\n",
       "       [1., 0., 0., 0., 1.],\n",
       "       [1., 0., 9., 0., 1.],\n",
       "       [1., 0., 0., 0., 1.],\n",
       "       [1., 1., 1., 1., 1.]])"
      ]
     },
     "execution_count": 25,
     "metadata": {},
     "output_type": "execute_result"
    }
   ],
   "execution_count": 25
  },
  {
   "metadata": {},
   "cell_type": "markdown",
   "source": "### Copying arrays",
   "id": "5dc55c6901015001"
  },
  {
   "metadata": {
    "ExecuteTime": {
     "end_time": "2024-06-06T09:36:02.464865Z",
     "start_time": "2024-06-06T09:36:02.462749Z"
    }
   },
   "cell_type": "code",
   "source": [
    "omegaA = np.array([1, 2, 3])\n",
    "phiA = omegaA\n",
    "phiA[0] = 100\n",
    "omegaA"
   ],
   "id": "3254ebf148de6bbd",
   "outputs": [
    {
     "data": {
      "text/plain": [
       "array([100,   2,   3])"
      ]
     },
     "execution_count": 26,
     "metadata": {},
     "output_type": "execute_result"
    }
   ],
   "execution_count": 26
  },
  {
   "metadata": {
    "ExecuteTime": {
     "end_time": "2024-06-06T09:36:02.468235Z",
     "start_time": "2024-06-06T09:36:02.465288Z"
    }
   },
   "cell_type": "code",
   "source": [
    "omegaB = np.array([1, 2, 3])\n",
    "phiB = omegaB.copy()\n",
    "phiB[0] = 100\n",
    "omegaB"
   ],
   "id": "303f75666224c30f",
   "outputs": [
    {
     "data": {
      "text/plain": [
       "array([1, 2, 3])"
      ]
     },
     "execution_count": 27,
     "metadata": {},
     "output_type": "execute_result"
    }
   ],
   "execution_count": 27
  },
  {
   "metadata": {},
   "cell_type": "markdown",
   "source": "## Mathematics",
   "id": "ae444cb74b35fac1"
  },
  {
   "metadata": {
    "ExecuteTime": {
     "end_time": "2024-06-06T09:36:02.473024Z",
     "start_time": "2024-06-06T09:36:02.471110Z"
    }
   },
   "cell_type": "code",
   "source": [
    "a_M = np.array([1, 2, 5, 7])\n",
    "print(a_M + 2, a_M * 2, sep='\\n')  # a_M - 2, a_M / 2 and a_M ** 2 also work. Other overloaded operations such as +=, -= ... also work. (Broadcasting for a + 2)"
   ],
   "id": "5ea87632e0c89912",
   "outputs": [
    {
     "name": "stdout",
     "output_type": "stream",
     "text": [
      "[3 4 7 9]\n",
      "[ 2  4 10 14]\n"
     ]
    }
   ],
   "execution_count": 28
  },
  {
   "metadata": {
    "ExecuteTime": {
     "end_time": "2024-06-06T09:36:02.475674Z",
     "start_time": "2024-06-06T09:36:02.473401Z"
    }
   },
   "cell_type": "code",
   "source": [
    "# np.sin([array]) gives the sine of each term in the array\n",
    "np.sin(beta)"
   ],
   "id": "ae1673ad1577b924",
   "outputs": [
    {
     "data": {
      "text/plain": [
       "array([[ 0.8075581 ,  0.67428791,  0.42593947,  0.1097783 ,  0.17902957,\n",
       "         0.19866933,  0.78950374,  0.40776045,  0.5311862 ,  0.4168708 ],\n",
       "       [ 0.63653718,  0.70327942, -0.84147098,  0.24740396, -0.84147098,\n",
       "         0.53963205, -0.84147098,  0.70327942, -0.84147098,  0.08987855],\n",
       "       [ 0.67428791,  0.36161543,  0.77707175,  0.29552021,  0.70327942,\n",
       "         0.58103516,  0.72428717,  0.21822962,  0.75128041,  0.53963205],\n",
       "       [ 0.13954311,  0.77707175,  0.05996401,  0.23770263,  0.75784256,\n",
       "         0.1097783 ,  0.82687954,  0.00999983,  0.76432894,  0.64421769],\n",
       "       [ 0.74464312,  0.46177918, -0.84147098,  0.37092047, -0.84147098,\n",
       "         0.32404303, -0.84147098,  0.06994285, -0.84147098,  0.38018842],\n",
       "       [ 0.81919157,  0.38018842,  0.47062589,  0.80161994,  0.47062589,\n",
       "         0.33348709,  0.27635565,  0.40776045,  0.58103516,  0.84147098],\n",
       "       [ 0.33348709,  0.35227423,  0.82488571,  0.29552021,  0.68892145,\n",
       "         0.00999983,  0.01999867,  0.08987855,  0.11971221,  0.        ],\n",
       "       [ 0.2084599 ,  0.62098599, -0.84147098,  0.66686964, -0.84147098,\n",
       "         0.78950374, -0.84147098,  0.23770263, -0.84147098,  0.77073888],\n",
       "       [ 0.70327942,  0.51413599,  0.2084599 ,  0.40776045,  0.46177918,\n",
       "         0.4168708 ,  0.22797752,  0.42593947,  0.15931821,  0.40776045],\n",
       "       [ 0.82488571,  0.68892145,  0.43496553,  0.40776045,  0.77073888,\n",
       "         0.46177918,  0.80161994,  0.8075581 ,  0.81919157,  0.37092047]])"
      ]
     },
     "execution_count": 29,
     "metadata": {},
     "output_type": "execute_result"
    }
   ],
   "execution_count": 29
  },
  {
   "metadata": {},
   "cell_type": "markdown",
   "source": "## Linear Algebra",
   "id": "2d7dda4154f70f34"
  }
 ],
 "metadata": {
  "kernelspec": {
   "display_name": "Python 3",
   "language": "python",
   "name": "python3"
  },
  "language_info": {
   "codemirror_mode": {
    "name": "ipython",
    "version": 2
   },
   "file_extension": ".py",
   "mimetype": "text/x-python",
   "name": "python",
   "nbconvert_exporter": "python",
   "pygments_lexer": "ipython2",
   "version": "2.7.6"
  }
 },
 "nbformat": 4,
 "nbformat_minor": 5
}
