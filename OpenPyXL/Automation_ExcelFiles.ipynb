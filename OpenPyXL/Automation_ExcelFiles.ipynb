{
 "cells": [
  {
   "metadata": {
    "ExecuteTime": {
     "end_time": "2024-06-04T08:03:20.149311Z",
     "start_time": "2024-06-04T08:03:19.773728Z"
    }
   },
   "cell_type": "code",
   "source": [
    "import openpyxl as xl\n",
    "from openpyxl.chart import Reference, BarChart"
   ],
   "id": "c6d9b67347ac0096",
   "outputs": [],
   "execution_count": 1
  },
  {
   "metadata": {
    "ExecuteTime": {
     "end_time": "2024-06-04T08:03:20.155845Z",
     "start_time": "2024-06-04T08:03:20.150253Z"
    }
   },
   "cell_type": "code",
   "source": [
    "wb = xl.load_workbook('transactions.xlsx')\n",
    "wb"
   ],
   "id": "2b71825bd72343b6",
   "outputs": [
    {
     "data": {
      "text/plain": [
       "<openpyxl.workbook.workbook.Workbook at 0x106e2c610>"
      ]
     },
     "execution_count": 2,
     "metadata": {},
     "output_type": "execute_result"
    }
   ],
   "execution_count": 2
  },
  {
   "metadata": {
    "ExecuteTime": {
     "end_time": "2024-06-04T08:03:20.159185Z",
     "start_time": "2024-06-04T08:03:20.156594Z"
    }
   },
   "cell_type": "code",
   "source": [
    "sheet = wb['Sheet1']\n",
    "sheet"
   ],
   "id": "ca95494a1d00647a",
   "outputs": [
    {
     "data": {
      "text/plain": [
       "<Worksheet \"Sheet1\">"
      ]
     },
     "execution_count": 3,
     "metadata": {},
     "output_type": "execute_result"
    }
   ],
   "execution_count": 3
  },
  {
   "metadata": {
    "ExecuteTime": {
     "end_time": "2024-06-04T08:03:20.161718Z",
     "start_time": "2024-06-04T08:03:20.159717Z"
    }
   },
   "cell_type": "code",
   "source": [
    "cell = sheet['a1']\n",
    "cell"
   ],
   "id": "6de50ad4198dec10",
   "outputs": [
    {
     "data": {
      "text/plain": [
       "<Cell 'Sheet1'.A1>"
      ]
     },
     "execution_count": 4,
     "metadata": {},
     "output_type": "execute_result"
    }
   ],
   "execution_count": 4
  },
  {
   "metadata": {
    "ExecuteTime": {
     "end_time": "2024-06-04T08:03:20.164629Z",
     "start_time": "2024-06-04T08:03:20.163058Z"
    }
   },
   "cell_type": "code",
   "source": "print(cell.value)",
   "id": "84c433d7f76c7116",
   "outputs": [
    {
     "name": "stdout",
     "output_type": "stream",
     "text": [
      "transaction_id\n"
     ]
    }
   ],
   "execution_count": 5
  },
  {
   "metadata": {
    "ExecuteTime": {
     "end_time": "2024-06-04T08:03:20.166784Z",
     "start_time": "2024-06-04T08:03:20.165213Z"
    }
   },
   "cell_type": "code",
   "source": [
    "for row in range(2, sheet.max_row + 1):\n",
    "    price_cell = sheet.cell(row, 3)\n",
    "    corrected_price = price_cell.value * 0.9\n",
    "    corrected_price_cell = sheet.cell(row, 4)\n",
    "    corrected_price_cell.value = corrected_price"
   ],
   "id": "7edcb8977c57f285",
   "outputs": [],
   "execution_count": 6
  },
  {
   "metadata": {
    "ExecuteTime": {
     "end_time": "2024-06-04T08:03:20.169398Z",
     "start_time": "2024-06-04T08:03:20.167281Z"
    }
   },
   "cell_type": "code",
   "source": [
    "values = Reference(sheet, min_row=2, max_row=sheet.max_row, min_col=4, max_col=4)\n",
    "\n",
    "chart = BarChart()\n",
    "chart.add_data(values)\n",
    "\n",
    "sheet.add_chart(chart, 'b10')"
   ],
   "id": "887ca3a813ab99d9",
   "outputs": [],
   "execution_count": 7
  },
  {
   "metadata": {
    "ExecuteTime": {
     "end_time": "2024-06-04T08:03:20.176821Z",
     "start_time": "2024-06-04T08:03:20.169920Z"
    }
   },
   "cell_type": "code",
   "source": "wb.save('transactions_corrected.xlsx')",
   "id": "60d6a7bed886c588",
   "outputs": [],
   "execution_count": 8
  }
 ],
 "metadata": {
  "kernelspec": {
   "display_name": "Python 3",
   "language": "python",
   "name": "python3"
  },
  "language_info": {
   "codemirror_mode": {
    "name": "ipython",
    "version": 2
   },
   "file_extension": ".py",
   "mimetype": "text/x-python",
   "name": "python",
   "nbconvert_exporter": "python",
   "pygments_lexer": "ipython2",
   "version": "2.7.6"
  }
 },
 "nbformat": 4,
 "nbformat_minor": 5
}
