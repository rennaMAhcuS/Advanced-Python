{
 "cells": [
  {
   "metadata": {
    "ExecuteTime": {
     "end_time": "2024-06-05T09:37:27.230892Z",
     "start_time": "2024-06-05T09:37:26.934616Z"
    }
   },
   "cell_type": "code",
   "source": "import numpy as np",
   "id": "b63955477b7877c1",
   "outputs": [],
   "execution_count": 1
  },
  {
   "metadata": {},
   "cell_type": "markdown",
   "source": "# The Basics",
   "id": "8d86967b745616e4"
  },
  {
   "metadata": {
    "ExecuteTime": {
     "end_time": "2024-06-05T09:37:27.235521Z",
     "start_time": "2024-06-05T09:37:27.232187Z"
    }
   },
   "cell_type": "code",
   "source": [
    "a = np.array([1, 2, 3])\n",
    "a"
   ],
   "id": "77753f09bed14916",
   "outputs": [
    {
     "data": {
      "text/plain": [
       "array([1, 2, 3])"
      ]
     },
     "execution_count": 2,
     "metadata": {},
     "output_type": "execute_result"
    }
   ],
   "execution_count": 2
  },
  {
   "metadata": {
    "ExecuteTime": {
     "end_time": "2024-06-05T09:37:27.238304Z",
     "start_time": "2024-06-05T09:37:27.236112Z"
    }
   },
   "cell_type": "code",
   "source": [
    "b = np.array(([6.0, 5.0, 4.0], [3.0, 2.0, 1.0]))\n",
    "b"
   ],
   "id": "3f4ade89a42e1698",
   "outputs": [
    {
     "data": {
      "text/plain": [
       "array([[6., 5., 4.],\n",
       "       [3., 2., 1.]])"
      ]
     },
     "execution_count": 3,
     "metadata": {},
     "output_type": "execute_result"
    }
   ],
   "execution_count": 3
  },
  {
   "metadata": {
    "ExecuteTime": {
     "end_time": "2024-06-05T09:37:27.241749Z",
     "start_time": "2024-06-05T09:37:27.238742Z"
    }
   },
   "cell_type": "code",
   "source": [
    "# Get Dimension\n",
    "a.ndim"
   ],
   "id": "7b2b9232c3e834e8",
   "outputs": [
    {
     "data": {
      "text/plain": [
       "1"
      ]
     },
     "execution_count": 4,
     "metadata": {},
     "output_type": "execute_result"
    }
   ],
   "execution_count": 4
  },
  {
   "metadata": {
    "ExecuteTime": {
     "end_time": "2024-06-05T09:37:27.245583Z",
     "start_time": "2024-06-05T09:37:27.243426Z"
    }
   },
   "cell_type": "code",
   "source": [
    "# Get Shape\n",
    "b.shape"
   ],
   "id": "1c7c9ed76e5b02d3",
   "outputs": [
    {
     "data": {
      "text/plain": [
       "(2, 3)"
      ]
     },
     "execution_count": 5,
     "metadata": {},
     "output_type": "execute_result"
    }
   ],
   "execution_count": 5
  },
  {
   "metadata": {
    "ExecuteTime": {
     "end_time": "2024-06-05T09:37:27.249024Z",
     "start_time": "2024-06-05T09:37:27.246058Z"
    }
   },
   "cell_type": "code",
   "source": [
    "# Get Type\n",
    "a.dtype"
   ],
   "id": "d1e94daf05f8809c",
   "outputs": [
    {
     "data": {
      "text/plain": [
       "dtype('int64')"
      ]
     },
     "execution_count": 6,
     "metadata": {},
     "output_type": "execute_result"
    }
   ],
   "execution_count": 6
  },
  {
   "metadata": {
    "ExecuteTime": {
     "end_time": "2024-06-05T09:37:27.251705Z",
     "start_time": "2024-06-05T09:37:27.249512Z"
    }
   },
   "cell_type": "code",
   "source": [
    "# Get the Size of the datatype in the ndarray\n",
    "a.itemsize"
   ],
   "id": "9ce3393366f679ac",
   "outputs": [
    {
     "data": {
      "text/plain": [
       "8"
      ]
     },
     "execution_count": 7,
     "metadata": {},
     "output_type": "execute_result"
    }
   ],
   "execution_count": 7
  },
  {
   "metadata": {
    "ExecuteTime": {
     "end_time": "2024-06-05T09:37:27.254341Z",
     "start_time": "2024-06-05T09:37:27.252182Z"
    }
   },
   "cell_type": "code",
   "source": [
    "# Get the number of items (product of all the numbers in shape) in an array\n",
    "b.size"
   ],
   "id": "233413412b69c237",
   "outputs": [
    {
     "data": {
      "text/plain": [
       "6"
      ]
     },
     "execution_count": 8,
     "metadata": {},
     "output_type": "execute_result"
    }
   ],
   "execution_count": 8
  },
  {
   "metadata": {
    "ExecuteTime": {
     "end_time": "2024-06-05T09:37:27.256838Z",
     "start_time": "2024-06-05T09:37:27.254783Z"
    }
   },
   "cell_type": "code",
   "source": [
    "# Specifying datatypes:\n",
    "c = np.array([1, 2, 3], dtype='int32')\n",
    "c"
   ],
   "id": "1b0b03e87a0831b5",
   "outputs": [
    {
     "data": {
      "text/plain": [
       "array([1, 2, 3], dtype=int32)"
      ]
     },
     "execution_count": 9,
     "metadata": {},
     "output_type": "execute_result"
    }
   ],
   "execution_count": 9
  },
  {
   "metadata": {},
   "cell_type": "markdown",
   "source": "## Accessing/Changing specific elements, rows, columns, etc.",
   "id": "8e6ef968e6d9b9d2"
  },
  {
   "metadata": {
    "ExecuteTime": {
     "end_time": "2024-06-05T09:37:27.259414Z",
     "start_time": "2024-06-05T09:37:27.257315Z"
    }
   },
   "cell_type": "code",
   "source": [
    "alpha = np.array([[1, 2, 3, 4, 6], [1, 4, 8, 6, 3]])\n",
    "alpha"
   ],
   "id": "e87d78967bcee203",
   "outputs": [
    {
     "data": {
      "text/plain": [
       "array([[1, 2, 3, 4, 6],\n",
       "       [1, 4, 8, 6, 3]])"
      ]
     },
     "execution_count": 10,
     "metadata": {},
     "output_type": "execute_result"
    }
   ],
   "execution_count": 10
  },
  {
   "metadata": {
    "ExecuteTime": {
     "end_time": "2024-06-05T09:37:27.261845Z",
     "start_time": "2024-06-05T09:37:27.259788Z"
    }
   },
   "cell_type": "code",
   "source": [
    "# Getting mth row and nth column's element = array[m - 1, n - 1]. We can also use the negative indices as used in lists...\n",
    "alpha[1, 3]"
   ],
   "id": "e61d003071b747c",
   "outputs": [
    {
     "data": {
      "text/plain": [
       "6"
      ]
     },
     "execution_count": 11,
     "metadata": {},
     "output_type": "execute_result"
    }
   ],
   "execution_count": 11
  },
  {
   "metadata": {
    "ExecuteTime": {
     "end_time": "2024-06-05T09:37:27.265533Z",
     "start_time": "2024-06-05T09:37:27.262797Z"
    }
   },
   "cell_type": "code",
   "source": [
    "beta = np.around(np.random.random((10, 10)), decimals=2)\n",
    "beta"
   ],
   "id": "8df58c300a2b6c37",
   "outputs": [
    {
     "data": {
      "text/plain": [
       "array([[0.85, 0.29, 0.32, 0.32, 0.37, 0.52, 0.01, 0.3 , 0.66, 0.86],\n",
       "       [0.89, 0.66, 0.51, 0.14, 0.54, 0.57, 0.55, 0.92, 0.04, 0.11],\n",
       "       [0.25, 0.85, 0.95, 0.38, 0.37, 0.1 , 0.27, 0.94, 0.32, 0.09],\n",
       "       [0.52, 0.88, 0.28, 0.09, 0.09, 0.48, 0.16, 0.42, 0.52, 0.52],\n",
       "       [0.66, 0.86, 0.11, 0.62, 0.03, 0.37, 0.41, 0.49, 0.25, 0.23],\n",
       "       [0.26, 0.1 , 0.17, 0.29, 0.96, 0.6 , 0.1 , 0.01, 0.31, 0.57],\n",
       "       [0.1 , 0.43, 0.31, 0.4 , 0.89, 0.21, 0.48, 0.65, 0.07, 0.6 ],\n",
       "       [0.95, 0.59, 0.69, 0.52, 0.9 , 0.54, 0.33, 0.23, 0.15, 0.97],\n",
       "       [0.37, 0.8 , 0.03, 0.95, 0.78, 0.81, 0.88, 0.19, 0.68, 0.9 ],\n",
       "       [0.02, 0.83, 0.16, 0.7 , 0.91, 0.3 , 0.3 , 0.18, 0.98, 0.5 ]])"
      ]
     },
     "execution_count": 12,
     "metadata": {},
     "output_type": "execute_result"
    }
   ],
   "execution_count": 12
  },
  {
   "metadata": {
    "ExecuteTime": {
     "end_time": "2024-06-05T09:37:27.268662Z",
     "start_time": "2024-06-05T09:37:27.266422Z"
    }
   },
   "cell_type": "code",
   "source": [
    "# Splicing works perfectly. See these examples:\n",
    "print(\"=== Without step ===\")\n",
    "print(beta[3:7, 2:5])\n",
    "print(\"=== With step ===\")\n",
    "print(beta[1:8:3, 2:9:2])"
   ],
   "id": "5d3d086662726f1",
   "outputs": [
    {
     "name": "stdout",
     "output_type": "stream",
     "text": [
      "=== Without step ===\n",
      "[[0.28 0.09 0.09]\n",
      " [0.11 0.62 0.03]\n",
      " [0.17 0.29 0.96]\n",
      " [0.31 0.4  0.89]]\n",
      "=== With step ===\n",
      "[[0.51 0.54 0.55 0.04]\n",
      " [0.11 0.03 0.41 0.25]\n",
      " [0.69 0.9  0.33 0.15]]\n"
     ]
    }
   ],
   "execution_count": 13
  },
  {
   "metadata": {
    "ExecuteTime": {
     "end_time": "2024-06-05T09:37:27.272995Z",
     "start_time": "2024-06-05T09:37:27.270740Z"
    }
   },
   "cell_type": "code",
   "source": [
    "# NumPy Arrays are mutable.\n",
    "beta[3, 6] = 1000\n",
    "beta"
   ],
   "id": "a91b84e699ae97e1",
   "outputs": [
    {
     "data": {
      "text/plain": [
       "array([[8.5e-01, 2.9e-01, 3.2e-01, 3.2e-01, 3.7e-01, 5.2e-01, 1.0e-02,\n",
       "        3.0e-01, 6.6e-01, 8.6e-01],\n",
       "       [8.9e-01, 6.6e-01, 5.1e-01, 1.4e-01, 5.4e-01, 5.7e-01, 5.5e-01,\n",
       "        9.2e-01, 4.0e-02, 1.1e-01],\n",
       "       [2.5e-01, 8.5e-01, 9.5e-01, 3.8e-01, 3.7e-01, 1.0e-01, 2.7e-01,\n",
       "        9.4e-01, 3.2e-01, 9.0e-02],\n",
       "       [5.2e-01, 8.8e-01, 2.8e-01, 9.0e-02, 9.0e-02, 4.8e-01, 1.0e+03,\n",
       "        4.2e-01, 5.2e-01, 5.2e-01],\n",
       "       [6.6e-01, 8.6e-01, 1.1e-01, 6.2e-01, 3.0e-02, 3.7e-01, 4.1e-01,\n",
       "        4.9e-01, 2.5e-01, 2.3e-01],\n",
       "       [2.6e-01, 1.0e-01, 1.7e-01, 2.9e-01, 9.6e-01, 6.0e-01, 1.0e-01,\n",
       "        1.0e-02, 3.1e-01, 5.7e-01],\n",
       "       [1.0e-01, 4.3e-01, 3.1e-01, 4.0e-01, 8.9e-01, 2.1e-01, 4.8e-01,\n",
       "        6.5e-01, 7.0e-02, 6.0e-01],\n",
       "       [9.5e-01, 5.9e-01, 6.9e-01, 5.2e-01, 9.0e-01, 5.4e-01, 3.3e-01,\n",
       "        2.3e-01, 1.5e-01, 9.7e-01],\n",
       "       [3.7e-01, 8.0e-01, 3.0e-02, 9.5e-01, 7.8e-01, 8.1e-01, 8.8e-01,\n",
       "        1.9e-01, 6.8e-01, 9.0e-01],\n",
       "       [2.0e-02, 8.3e-01, 1.6e-01, 7.0e-01, 9.1e-01, 3.0e-01, 3.0e-01,\n",
       "        1.8e-01, 9.8e-01, 5.0e-01]])"
      ]
     },
     "execution_count": 14,
     "metadata": {},
     "output_type": "execute_result"
    }
   ],
   "execution_count": 14
  },
  {
   "metadata": {
    "ExecuteTime": {
     "end_time": "2024-06-05T09:37:27.275771Z",
     "start_time": "2024-06-05T09:37:27.273385Z"
    }
   },
   "cell_type": "code",
   "source": [
    "# We can also input the change through the spliced arrays also which will reflect in the main array.\n",
    "beta[1:8:3, 2:9:2] = [[-1, -1, -1, -1], [-1, -1, -1, -1], [-1, -1, -1, -1]]  # or np.full((3, 4), -1)\n",
    "beta"
   ],
   "id": "8d51ea3e6fdb453",
   "outputs": [
    {
     "data": {
      "text/plain": [
       "array([[ 8.5e-01,  2.9e-01,  3.2e-01,  3.2e-01,  3.7e-01,  5.2e-01,\n",
       "         1.0e-02,  3.0e-01,  6.6e-01,  8.6e-01],\n",
       "       [ 8.9e-01,  6.6e-01, -1.0e+00,  1.4e-01, -1.0e+00,  5.7e-01,\n",
       "        -1.0e+00,  9.2e-01, -1.0e+00,  1.1e-01],\n",
       "       [ 2.5e-01,  8.5e-01,  9.5e-01,  3.8e-01,  3.7e-01,  1.0e-01,\n",
       "         2.7e-01,  9.4e-01,  3.2e-01,  9.0e-02],\n",
       "       [ 5.2e-01,  8.8e-01,  2.8e-01,  9.0e-02,  9.0e-02,  4.8e-01,\n",
       "         1.0e+03,  4.2e-01,  5.2e-01,  5.2e-01],\n",
       "       [ 6.6e-01,  8.6e-01, -1.0e+00,  6.2e-01, -1.0e+00,  3.7e-01,\n",
       "        -1.0e+00,  4.9e-01, -1.0e+00,  2.3e-01],\n",
       "       [ 2.6e-01,  1.0e-01,  1.7e-01,  2.9e-01,  9.6e-01,  6.0e-01,\n",
       "         1.0e-01,  1.0e-02,  3.1e-01,  5.7e-01],\n",
       "       [ 1.0e-01,  4.3e-01,  3.1e-01,  4.0e-01,  8.9e-01,  2.1e-01,\n",
       "         4.8e-01,  6.5e-01,  7.0e-02,  6.0e-01],\n",
       "       [ 9.5e-01,  5.9e-01, -1.0e+00,  5.2e-01, -1.0e+00,  5.4e-01,\n",
       "        -1.0e+00,  2.3e-01, -1.0e+00,  9.7e-01],\n",
       "       [ 3.7e-01,  8.0e-01,  3.0e-02,  9.5e-01,  7.8e-01,  8.1e-01,\n",
       "         8.8e-01,  1.9e-01,  6.8e-01,  9.0e-01],\n",
       "       [ 2.0e-02,  8.3e-01,  1.6e-01,  7.0e-01,  9.1e-01,  3.0e-01,\n",
       "         3.0e-01,  1.8e-01,  9.8e-01,  5.0e-01]])"
      ]
     },
     "execution_count": 15,
     "metadata": {},
     "output_type": "execute_result"
    }
   ],
   "execution_count": 15
  },
  {
   "metadata": {},
   "cell_type": "markdown",
   "source": "## Initializing Different Types of Arrays",
   "id": "df87d54b1883c17c"
  },
  {
   "metadata": {
    "ExecuteTime": {
     "end_time": "2024-06-05T09:37:27.278256Z",
     "start_time": "2024-06-05T09:37:27.276299Z"
    }
   },
   "cell_type": "code",
   "source": [
    "# All zeroes matrix\n",
    "null = np.zeros((3, 4))\n",
    "null"
   ],
   "id": "bcc775a8ca4358f9",
   "outputs": [
    {
     "data": {
      "text/plain": [
       "array([[0., 0., 0., 0.],\n",
       "       [0., 0., 0., 0.],\n",
       "       [0., 0., 0., 0.]])"
      ]
     },
     "execution_count": 16,
     "metadata": {},
     "output_type": "execute_result"
    }
   ],
   "execution_count": 16
  },
  {
   "metadata": {
    "ExecuteTime": {
     "end_time": "2024-06-05T09:37:27.280740Z",
     "start_time": "2024-06-05T09:37:27.278766Z"
    }
   },
   "cell_type": "code",
   "source": [
    "# All 'ones' matrix\n",
    "ones = np.ones((4, 3, 2), dtype='int32')\n",
    "ones"
   ],
   "id": "7f55e784e70572e4",
   "outputs": [
    {
     "data": {
      "text/plain": [
       "array([[[1, 1],\n",
       "        [1, 1],\n",
       "        [1, 1]],\n",
       "\n",
       "       [[1, 1],\n",
       "        [1, 1],\n",
       "        [1, 1]],\n",
       "\n",
       "       [[1, 1],\n",
       "        [1, 1],\n",
       "        [1, 1]],\n",
       "\n",
       "       [[1, 1],\n",
       "        [1, 1],\n",
       "        [1, 1]]], dtype=int32)"
      ]
     },
     "execution_count": 17,
     "metadata": {},
     "output_type": "execute_result"
    }
   ],
   "execution_count": 17
  },
  {
   "metadata": {
    "ExecuteTime": {
     "end_time": "2024-06-05T09:37:27.283704Z",
     "start_time": "2024-06-05T09:37:27.281675Z"
    }
   },
   "cell_type": "code",
   "source": [
    "# Any other number\n",
    "full = np.full((3, 2), 99)\n",
    "full"
   ],
   "id": "897094ace23f747f",
   "outputs": [
    {
     "data": {
      "text/plain": [
       "array([[99, 99],\n",
       "       [99, 99],\n",
       "       [99, 99]])"
      ]
     },
     "execution_count": 18,
     "metadata": {},
     "output_type": "execute_result"
    }
   ],
   "execution_count": 18
  },
  {
   "metadata": {
    "ExecuteTime": {
     "end_time": "2024-06-05T09:37:27.286016Z",
     "start_time": "2024-06-05T09:37:27.284288Z"
    }
   },
   "cell_type": "code",
   "source": [
    "# To take the dimensions of a matrix and fill it with a number: (Note: The first argument is an array, not its dimensions.)\n",
    "full_like = np.full_like(b, 6)\n",
    "full_like"
   ],
   "id": "10aa43c2c443a275",
   "outputs": [
    {
     "data": {
      "text/plain": [
       "array([[6., 6., 6.],\n",
       "       [6., 6., 6.]])"
      ]
     },
     "execution_count": 19,
     "metadata": {},
     "output_type": "execute_result"
    }
   ],
   "execution_count": 19
  },
  {
   "metadata": {},
   "cell_type": "markdown",
   "source": "### Random Arrays",
   "id": "ff5c2146e77dddca"
  },
  {
   "metadata": {
    "ExecuteTime": {
     "end_time": "2024-06-05T09:37:27.288581Z",
     "start_time": "2024-06-05T09:37:27.286551Z"
    }
   },
   "cell_type": "code",
   "source": [
    "# Type 1: Argument is the dimension Iterable\n",
    "np.random.random_sample((4, 2))"
   ],
   "id": "47d0d6b8d320aab",
   "outputs": [
    {
     "data": {
      "text/plain": [
       "array([[0.95159957, 0.91433105],\n",
       "       [0.11810994, 0.16619936],\n",
       "       [0.86903385, 0.24294173],\n",
       "       [0.57863916, 0.84659294]])"
      ]
     },
     "execution_count": 20,
     "metadata": {},
     "output_type": "execute_result"
    }
   ],
   "execution_count": 20
  },
  {
   "metadata": {
    "ExecuteTime": {
     "end_time": "2024-06-05T09:37:27.290809Z",
     "start_time": "2024-06-05T09:37:27.288988Z"
    }
   },
   "cell_type": "code",
   "source": [
    "# Type 2: Unpacked Arguments\n",
    "np.random.rand(4, 2)"
   ],
   "id": "3e4b686b74b5d68b",
   "outputs": [
    {
     "data": {
      "text/plain": [
       "array([[0.56680864, 0.68877682],\n",
       "       [0.70286755, 0.98975496],\n",
       "       [0.39952415, 0.07396648],\n",
       "       [0.7481637 , 0.59504961]])"
      ]
     },
     "execution_count": 21,
     "metadata": {},
     "output_type": "execute_result"
    }
   ],
   "execution_count": 21
  },
  {
   "metadata": {},
   "cell_type": "code",
   "outputs": [],
   "execution_count": null,
   "source": "",
   "id": "a831f382cc851e4e"
  }
 ],
 "metadata": {
  "kernelspec": {
   "display_name": "Python 3",
   "language": "python",
   "name": "python3"
  },
  "language_info": {
   "codemirror_mode": {
    "name": "ipython",
    "version": 2
   },
   "file_extension": ".py",
   "mimetype": "text/x-python",
   "name": "python",
   "nbconvert_exporter": "python",
   "pygments_lexer": "ipython2",
   "version": "2.7.6"
  }
 },
 "nbformat": 4,
 "nbformat_minor": 5
}
